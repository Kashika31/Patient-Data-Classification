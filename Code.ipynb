{
 "cells": [
  {
   "cell_type": "markdown",
   "metadata": {},
   "source": [
    "# Patient Data Analysis"
   ]
  },
  {
   "cell_type": "code",
   "execution_count": 1,
   "metadata": {},
   "outputs": [
    {
     "data": {
      "text/html": [
       "<div>\n",
       "<style scoped>\n",
       "    .dataframe tbody tr th:only-of-type {\n",
       "        vertical-align: middle;\n",
       "    }\n",
       "\n",
       "    .dataframe tbody tr th {\n",
       "        vertical-align: top;\n",
       "    }\n",
       "\n",
       "    .dataframe thead th {\n",
       "        text-align: right;\n",
       "    }\n",
       "</style>\n",
       "<table border=\"1\" class=\"dataframe\">\n",
       "  <thead>\n",
       "    <tr style=\"text-align: right;\">\n",
       "      <th></th>\n",
       "      <th>Source</th>\n",
       "      <th>Host</th>\n",
       "      <th>Link</th>\n",
       "      <th>Date(ET)</th>\n",
       "      <th>Time(ET)</th>\n",
       "      <th>time(GMT)</th>\n",
       "      <th>Title</th>\n",
       "      <th>TRANS_CONV_TEXT</th>\n",
       "      <th>Patient_Tag</th>\n",
       "    </tr>\n",
       "  </thead>\n",
       "  <tbody>\n",
       "    <tr>\n",
       "      <td>0</td>\n",
       "      <td>FORUMS</td>\n",
       "      <td>cafepharma.com</td>\n",
       "      <td>http://cafepharma.com/boards/threads/epstein.5...</td>\n",
       "      <td>6/15/2016</td>\n",
       "      <td>13:58:00</td>\n",
       "      <td>6/15/2016 23:28</td>\n",
       "      <td>Epstein</td>\n",
       "      <td>I don't disagree with you in principle. I'm ju...</td>\n",
       "      <td>0</td>\n",
       "    </tr>\n",
       "    <tr>\n",
       "      <td>1</td>\n",
       "      <td>FORUMS</td>\n",
       "      <td>www.patient.co.uk</td>\n",
       "      <td>http://www.patient.co.uk/forums/discuss/enlarg...</td>\n",
       "      <td>5/7/2016</td>\n",
       "      <td>0.820833333</td>\n",
       "      <td>42498.21667</td>\n",
       "      <td>Enlarged Heart.Thread Enlarged Heart</td>\n",
       "      <td>I am always dizzy I get dizzy standing up so I...</td>\n",
       "      <td>1</td>\n",
       "    </tr>\n",
       "    <tr>\n",
       "      <td>2</td>\n",
       "      <td>BLOG</td>\n",
       "      <td>http://abcnewsradioonline.com/entertainment-news</td>\n",
       "      <td>http://abcnewsradioonline.com/entertainment-ne...</td>\n",
       "      <td>4/14/2016</td>\n",
       "      <td>15:00:38</td>\n",
       "      <td>4/15/2016 0:30</td>\n",
       "      <td>Queen Latifah Joins American Heart Association...</td>\n",
       "      <td>Axelle/Bauer-Griffin/FilmMagic(NEW YORK) -- Qu...</td>\n",
       "      <td>0</td>\n",
       "    </tr>\n",
       "    <tr>\n",
       "      <td>3</td>\n",
       "      <td>FORUMS</td>\n",
       "      <td>www.cancer-forums.net</td>\n",
       "      <td>http://www.cancer-forums.net/viewtopic.php?f=1...</td>\n",
       "      <td>6/18/2016</td>\n",
       "      <td>20:46:00</td>\n",
       "      <td>6/19/2016 6:16</td>\n",
       "      <td>Bulaemia</td>\n",
       "      <td>I am 17 and I have been throwing up for about ...</td>\n",
       "      <td>1</td>\n",
       "    </tr>\n",
       "    <tr>\n",
       "      <td>4</td>\n",
       "      <td>FORUMS</td>\n",
       "      <td>www.diyaudio.com</td>\n",
       "      <td>http://www.diyaudio.com/forums/lounge/292252-d...</td>\n",
       "      <td>6/15/2016</td>\n",
       "      <td>3:26:00</td>\n",
       "      <td>6/15/2016 12:56</td>\n",
       "      <td>DIY Silver interconnects and RCAs???</td>\n",
       "      <td>Quote: Originally Posted by Boyan Silyavski Wa...</td>\n",
       "      <td>0</td>\n",
       "    </tr>\n",
       "  </tbody>\n",
       "</table>\n",
       "</div>"
      ],
      "text/plain": [
       "   Source                                              Host  \\\n",
       "0  FORUMS                                    cafepharma.com   \n",
       "1  FORUMS                                 www.patient.co.uk   \n",
       "2    BLOG  http://abcnewsradioonline.com/entertainment-news   \n",
       "3  FORUMS                             www.cancer-forums.net   \n",
       "4  FORUMS                                  www.diyaudio.com   \n",
       "\n",
       "                                                Link   Date(ET)     Time(ET)  \\\n",
       "0  http://cafepharma.com/boards/threads/epstein.5...  6/15/2016     13:58:00   \n",
       "1  http://www.patient.co.uk/forums/discuss/enlarg...   5/7/2016  0.820833333   \n",
       "2  http://abcnewsradioonline.com/entertainment-ne...  4/14/2016     15:00:38   \n",
       "3  http://www.cancer-forums.net/viewtopic.php?f=1...  6/18/2016     20:46:00   \n",
       "4  http://www.diyaudio.com/forums/lounge/292252-d...  6/15/2016      3:26:00   \n",
       "\n",
       "         time(GMT)                                              Title  \\\n",
       "0  6/15/2016 23:28                                            Epstein   \n",
       "1      42498.21667               Enlarged Heart.Thread Enlarged Heart   \n",
       "2   4/15/2016 0:30  Queen Latifah Joins American Heart Association...   \n",
       "3   6/19/2016 6:16                                           Bulaemia   \n",
       "4  6/15/2016 12:56               DIY Silver interconnects and RCAs???   \n",
       "\n",
       "                                     TRANS_CONV_TEXT  Patient_Tag  \n",
       "0  I don't disagree with you in principle. I'm ju...            0  \n",
       "1  I am always dizzy I get dizzy standing up so I...            1  \n",
       "2  Axelle/Bauer-Griffin/FilmMagic(NEW YORK) -- Qu...            0  \n",
       "3  I am 17 and I have been throwing up for about ...            1  \n",
       "4  Quote: Originally Posted by Boyan Silyavski Wa...            0  "
      ]
     },
     "execution_count": 1,
     "metadata": {},
     "output_type": "execute_result"
    }
   ],
   "source": [
    "import pandas as pd\n",
    "#Load the train dataset to a variable TrainDataset\n",
    "TrainDataset = pd.read_csv('Train.csv', engine='python')\n",
    "TrainDataset.head()"
   ]
  },
  {
   "cell_type": "code",
   "execution_count": 2,
   "metadata": {},
   "outputs": [
    {
     "name": "stdout",
     "output_type": "stream",
     "text": [
      "<class 'pandas.core.frame.DataFrame'>\n",
      "RangeIndex: 1157 entries, 0 to 1156\n",
      "Data columns (total 9 columns):\n",
      "Source             1157 non-null object\n",
      "Host               1098 non-null object\n",
      "Link               1157 non-null object\n",
      "Date(ET)           1157 non-null object\n",
      "Time(ET)           1157 non-null object\n",
      "time(GMT)          996 non-null object\n",
      "Title              941 non-null object\n",
      "TRANS_CONV_TEXT    1156 non-null object\n",
      "Patient_Tag        1157 non-null int64\n",
      "dtypes: int64(1), object(8)\n",
      "memory usage: 81.5+ KB\n"
     ]
    }
   ],
   "source": [
    "#Details of Training Dataset\n",
    "TrainDataset.info()"
   ]
  },
  {
   "cell_type": "code",
   "execution_count": 3,
   "metadata": {},
   "outputs": [
    {
     "data": {
      "text/html": [
       "<div>\n",
       "<style scoped>\n",
       "    .dataframe tbody tr th:only-of-type {\n",
       "        vertical-align: middle;\n",
       "    }\n",
       "\n",
       "    .dataframe tbody tr th {\n",
       "        vertical-align: top;\n",
       "    }\n",
       "\n",
       "    .dataframe thead th {\n",
       "        text-align: right;\n",
       "    }\n",
       "</style>\n",
       "<table border=\"1\" class=\"dataframe\">\n",
       "  <thead>\n",
       "    <tr style=\"text-align: right;\">\n",
       "      <th></th>\n",
       "      <th>Index</th>\n",
       "      <th>Source</th>\n",
       "      <th>Host</th>\n",
       "      <th>Link</th>\n",
       "      <th>Date(ET)</th>\n",
       "      <th>Time(ET)</th>\n",
       "      <th>time(GMT)</th>\n",
       "      <th>Title</th>\n",
       "      <th>TRANS_CONV_TEXT</th>\n",
       "      <th>Unnamed: 9</th>\n",
       "    </tr>\n",
       "  </thead>\n",
       "  <tbody>\n",
       "    <tr>\n",
       "      <td>0</td>\n",
       "      <td>1</td>\n",
       "      <td>BLOG</td>\n",
       "      <td>uhmagonline.com</td>\n",
       "      <td>http://uhmagonline.com/son-of-the-late-kimbo-s...</td>\n",
       "      <td>7/30/2016</td>\n",
       "      <td>0:41:23</td>\n",
       "      <td>NaN</td>\n",
       "      <td>NaN</td>\n",
       "      <td>Baby Slice, the son of the late Kimbo Slice, h...</td>\n",
       "      <td>NaN</td>\n",
       "    </tr>\n",
       "    <tr>\n",
       "      <td>1</td>\n",
       "      <td>2</td>\n",
       "      <td>FORUMS</td>\n",
       "      <td>implantinformationnetwork.yuku.com</td>\n",
       "      <td>http://implantinformationnetwork.yuku.com/topi...</td>\n",
       "      <td>6/20/2016</td>\n",
       "      <td>0:07:30</td>\n",
       "      <td>6/20/2016 9:37</td>\n",
       "      <td>My Story --</td>\n",
       "      <td>&lt;p&gt;&lt;font face=\"sans-serif\" size=\"3\"&gt;I have had...</td>\n",
       "      <td>NaN</td>\n",
       "    </tr>\n",
       "    <tr>\n",
       "      <td>2</td>\n",
       "      <td>3</td>\n",
       "      <td>BLOG</td>\n",
       "      <td>http://cestlapharm.blogspot.com</td>\n",
       "      <td>http://cestlapharm.blogspot.com/2016/06/us-fda...</td>\n",
       "      <td>6/15/2016</td>\n",
       "      <td>15:44:00</td>\n",
       "      <td>6/16/2016 1:14</td>\n",
       "      <td>US FDA ?????canagliflozin?dapagliflozin?????????</td>\n",
       "      <td>Previously, sodium-glucose cotransporter-2 (SG...</td>\n",
       "      <td>NaN</td>\n",
       "    </tr>\n",
       "    <tr>\n",
       "      <td>3</td>\n",
       "      <td>4</td>\n",
       "      <td>FORUMS</td>\n",
       "      <td>healthboards.com</td>\n",
       "      <td>http://www.healthboards.com/boards/heart-disor...</td>\n",
       "      <td>7/17/2016</td>\n",
       "      <td>19:41:00</td>\n",
       "      <td>NaN</td>\n",
       "      <td>NaN</td>\n",
       "      <td>Hello. I suffer from congestive heart failure ...</td>\n",
       "      <td>NaN</td>\n",
       "    </tr>\n",
       "    <tr>\n",
       "      <td>4</td>\n",
       "      <td>5</td>\n",
       "      <td>BLOG</td>\n",
       "      <td>http://www.sciencecodex.com</td>\n",
       "      <td>http://www.sciencecodex.com/vitamin_d_improves...</td>\n",
       "      <td>4/4/2016</td>\n",
       "      <td>15:30:45</td>\n",
       "      <td>4/5/2016 1:00</td>\n",
       "      <td>Vitamin D improves heart function, study finds</td>\n",
       "      <td>A daily dose of vitamin D3 improves heart func...</td>\n",
       "      <td>NaN</td>\n",
       "    </tr>\n",
       "  </tbody>\n",
       "</table>\n",
       "</div>"
      ],
      "text/plain": [
       "   Index  Source                                Host  \\\n",
       "0      1    BLOG                     uhmagonline.com   \n",
       "1      2  FORUMS  implantinformationnetwork.yuku.com   \n",
       "2      3    BLOG     http://cestlapharm.blogspot.com   \n",
       "3      4  FORUMS                    healthboards.com   \n",
       "4      5    BLOG         http://www.sciencecodex.com   \n",
       "\n",
       "                                                Link   Date(ET)  Time(ET)  \\\n",
       "0  http://uhmagonline.com/son-of-the-late-kimbo-s...  7/30/2016   0:41:23   \n",
       "1  http://implantinformationnetwork.yuku.com/topi...  6/20/2016   0:07:30   \n",
       "2  http://cestlapharm.blogspot.com/2016/06/us-fda...  6/15/2016  15:44:00   \n",
       "3  http://www.healthboards.com/boards/heart-disor...  7/17/2016  19:41:00   \n",
       "4  http://www.sciencecodex.com/vitamin_d_improves...   4/4/2016  15:30:45   \n",
       "\n",
       "        time(GMT)                                             Title  \\\n",
       "0             NaN                                               NaN   \n",
       "1  6/20/2016 9:37                                       My Story --   \n",
       "2  6/16/2016 1:14  US FDA ?????canagliflozin?dapagliflozin?????????   \n",
       "3             NaN                                               NaN   \n",
       "4   4/5/2016 1:00    Vitamin D improves heart function, study finds   \n",
       "\n",
       "                                     TRANS_CONV_TEXT Unnamed: 9  \n",
       "0  Baby Slice, the son of the late Kimbo Slice, h...        NaN  \n",
       "1  <p><font face=\"sans-serif\" size=\"3\">I have had...        NaN  \n",
       "2  Previously, sodium-glucose cotransporter-2 (SG...        NaN  \n",
       "3  Hello. I suffer from congestive heart failure ...        NaN  \n",
       "4  A daily dose of vitamin D3 improves heart func...        NaN  "
      ]
     },
     "execution_count": 3,
     "metadata": {},
     "output_type": "execute_result"
    }
   ],
   "source": [
    "#Load the test dataset to a variable TestDataset\n",
    "TestDataset = pd.read_csv('test.csv', engine='python')\n",
    "TestDataset.head()"
   ]
  },
  {
   "cell_type": "code",
   "execution_count": 4,
   "metadata": {
    "scrolled": true
   },
   "outputs": [
    {
     "name": "stdout",
     "output_type": "stream",
     "text": [
      "<class 'pandas.core.frame.DataFrame'>\n",
      "RangeIndex: 571 entries, 0 to 570\n",
      "Data columns (total 10 columns):\n",
      "Index              571 non-null int64\n",
      "Source             571 non-null object\n",
      "Host               541 non-null object\n",
      "Link               571 non-null object\n",
      "Date(ET)           571 non-null object\n",
      "Time(ET)           571 non-null object\n",
      "time(GMT)          480 non-null object\n",
      "Title              454 non-null object\n",
      "TRANS_CONV_TEXT    571 non-null object\n",
      "Unnamed: 9         1 non-null object\n",
      "dtypes: int64(1), object(9)\n",
      "memory usage: 44.7+ KB\n"
     ]
    }
   ],
   "source": [
    "#Details of Test Dataset\n",
    "TestDataset.info()"
   ]
  },
  {
   "cell_type": "markdown",
   "metadata": {},
   "source": [
    "## Data Visualization"
   ]
  },
  {
   "cell_type": "code",
   "execution_count": 5,
   "metadata": {},
   "outputs": [],
   "source": [
    "#Visualize feature Date(ET)\n",
    "#Function to visualize correct format of Date(ET)\n",
    "import time\n",
    "def RightFormat(data):\n",
    "    if '=' in data['Date(ET)']:\n",
    "        return data['Time(ET)']\n",
    "    else:\n",
    "        return data['Date(ET)']"
   ]
  },
  {
   "cell_type": "code",
   "execution_count": 6,
   "metadata": {},
   "outputs": [
    {
     "data": {
      "text/html": [
       "<div>\n",
       "<style scoped>\n",
       "    .dataframe tbody tr th:only-of-type {\n",
       "        vertical-align: middle;\n",
       "    }\n",
       "\n",
       "    .dataframe tbody tr th {\n",
       "        vertical-align: top;\n",
       "    }\n",
       "\n",
       "    .dataframe thead th {\n",
       "        text-align: right;\n",
       "    }\n",
       "</style>\n",
       "<table border=\"1\" class=\"dataframe\">\n",
       "  <thead>\n",
       "    <tr style=\"text-align: right;\">\n",
       "      <th></th>\n",
       "      <th>Source</th>\n",
       "      <th>Host</th>\n",
       "      <th>Link</th>\n",
       "      <th>Date(ET)</th>\n",
       "      <th>Time(ET)</th>\n",
       "      <th>time(GMT)</th>\n",
       "      <th>Title</th>\n",
       "      <th>TRANS_CONV_TEXT</th>\n",
       "      <th>Patient_Tag</th>\n",
       "    </tr>\n",
       "  </thead>\n",
       "  <tbody>\n",
       "    <tr>\n",
       "      <td>0</td>\n",
       "      <td>FORUMS</td>\n",
       "      <td>cafepharma.com</td>\n",
       "      <td>http://cafepharma.com/boards/threads/epstein.5...</td>\n",
       "      <td>6/15/2016</td>\n",
       "      <td>13:58:00</td>\n",
       "      <td>6/15/2016 23:28</td>\n",
       "      <td>Epstein</td>\n",
       "      <td>I don't disagree with you in principle. I'm ju...</td>\n",
       "      <td>0</td>\n",
       "    </tr>\n",
       "    <tr>\n",
       "      <td>1</td>\n",
       "      <td>FORUMS</td>\n",
       "      <td>www.patient.co.uk</td>\n",
       "      <td>http://www.patient.co.uk/forums/discuss/enlarg...</td>\n",
       "      <td>5/7/2016</td>\n",
       "      <td>0.820833333</td>\n",
       "      <td>42498.21667</td>\n",
       "      <td>Enlarged Heart.Thread Enlarged Heart</td>\n",
       "      <td>I am always dizzy I get dizzy standing up so I...</td>\n",
       "      <td>1</td>\n",
       "    </tr>\n",
       "    <tr>\n",
       "      <td>2</td>\n",
       "      <td>BLOG</td>\n",
       "      <td>http://abcnewsradioonline.com/entertainment-news</td>\n",
       "      <td>http://abcnewsradioonline.com/entertainment-ne...</td>\n",
       "      <td>4/14/2016</td>\n",
       "      <td>15:00:38</td>\n",
       "      <td>4/15/2016 0:30</td>\n",
       "      <td>Queen Latifah Joins American Heart Association...</td>\n",
       "      <td>Axelle/Bauer-Griffin/FilmMagic(NEW YORK) -- Qu...</td>\n",
       "      <td>0</td>\n",
       "    </tr>\n",
       "    <tr>\n",
       "      <td>3</td>\n",
       "      <td>FORUMS</td>\n",
       "      <td>www.cancer-forums.net</td>\n",
       "      <td>http://www.cancer-forums.net/viewtopic.php?f=1...</td>\n",
       "      <td>6/18/2016</td>\n",
       "      <td>20:46:00</td>\n",
       "      <td>6/19/2016 6:16</td>\n",
       "      <td>Bulaemia</td>\n",
       "      <td>I am 17 and I have been throwing up for about ...</td>\n",
       "      <td>1</td>\n",
       "    </tr>\n",
       "    <tr>\n",
       "      <td>4</td>\n",
       "      <td>FORUMS</td>\n",
       "      <td>www.diyaudio.com</td>\n",
       "      <td>http://www.diyaudio.com/forums/lounge/292252-d...</td>\n",
       "      <td>6/15/2016</td>\n",
       "      <td>3:26:00</td>\n",
       "      <td>6/15/2016 12:56</td>\n",
       "      <td>DIY Silver interconnects and RCAs???</td>\n",
       "      <td>Quote: Originally Posted by Boyan Silyavski Wa...</td>\n",
       "      <td>0</td>\n",
       "    </tr>\n",
       "  </tbody>\n",
       "</table>\n",
       "</div>"
      ],
      "text/plain": [
       "   Source                                              Host  \\\n",
       "0  FORUMS                                    cafepharma.com   \n",
       "1  FORUMS                                 www.patient.co.uk   \n",
       "2    BLOG  http://abcnewsradioonline.com/entertainment-news   \n",
       "3  FORUMS                             www.cancer-forums.net   \n",
       "4  FORUMS                                  www.diyaudio.com   \n",
       "\n",
       "                                                Link   Date(ET)     Time(ET)  \\\n",
       "0  http://cafepharma.com/boards/threads/epstein.5...  6/15/2016     13:58:00   \n",
       "1  http://www.patient.co.uk/forums/discuss/enlarg...   5/7/2016  0.820833333   \n",
       "2  http://abcnewsradioonline.com/entertainment-ne...  4/14/2016     15:00:38   \n",
       "3  http://www.cancer-forums.net/viewtopic.php?f=1...  6/18/2016     20:46:00   \n",
       "4  http://www.diyaudio.com/forums/lounge/292252-d...  6/15/2016      3:26:00   \n",
       "\n",
       "         time(GMT)                                              Title  \\\n",
       "0  6/15/2016 23:28                                            Epstein   \n",
       "1      42498.21667               Enlarged Heart.Thread Enlarged Heart   \n",
       "2   4/15/2016 0:30  Queen Latifah Joins American Heart Association...   \n",
       "3   6/19/2016 6:16                                           Bulaemia   \n",
       "4  6/15/2016 12:56               DIY Silver interconnects and RCAs???   \n",
       "\n",
       "                                     TRANS_CONV_TEXT  Patient_Tag  \n",
       "0  I don't disagree with you in principle. I'm ju...            0  \n",
       "1  I am always dizzy I get dizzy standing up so I...            1  \n",
       "2  Axelle/Bauer-Griffin/FilmMagic(NEW YORK) -- Qu...            0  \n",
       "3  I am 17 and I have been throwing up for about ...            1  \n",
       "4  Quote: Originally Posted by Boyan Silyavski Wa...            0  "
      ]
     },
     "execution_count": 6,
     "metadata": {},
     "output_type": "execute_result"
    }
   ],
   "source": [
    "# Applying function RightFormat to filter dates in right format\n",
    "TrainDataset['Date(ET)'] = TrainDataset.apply(RightFormat, axis=1)\n",
    "TrainDataset.head()"
   ]
  },
  {
   "cell_type": "code",
   "execution_count": 7,
   "metadata": {},
   "outputs": [
    {
     "data": {
      "text/html": [
       "<div>\n",
       "<style scoped>\n",
       "    .dataframe tbody tr th:only-of-type {\n",
       "        vertical-align: middle;\n",
       "    }\n",
       "\n",
       "    .dataframe tbody tr th {\n",
       "        vertical-align: top;\n",
       "    }\n",
       "\n",
       "    .dataframe thead th {\n",
       "        text-align: right;\n",
       "    }\n",
       "</style>\n",
       "<table border=\"1\" class=\"dataframe\">\n",
       "  <thead>\n",
       "    <tr style=\"text-align: right;\">\n",
       "      <th></th>\n",
       "      <th>Index</th>\n",
       "      <th>Source</th>\n",
       "      <th>Host</th>\n",
       "      <th>Link</th>\n",
       "      <th>Date(ET)</th>\n",
       "      <th>Time(ET)</th>\n",
       "      <th>time(GMT)</th>\n",
       "      <th>Title</th>\n",
       "      <th>TRANS_CONV_TEXT</th>\n",
       "      <th>Unnamed: 9</th>\n",
       "    </tr>\n",
       "  </thead>\n",
       "  <tbody>\n",
       "    <tr>\n",
       "      <td>0</td>\n",
       "      <td>1</td>\n",
       "      <td>BLOG</td>\n",
       "      <td>uhmagonline.com</td>\n",
       "      <td>http://uhmagonline.com/son-of-the-late-kimbo-s...</td>\n",
       "      <td>7/30/2016</td>\n",
       "      <td>0:41:23</td>\n",
       "      <td>NaN</td>\n",
       "      <td>NaN</td>\n",
       "      <td>Baby Slice, the son of the late Kimbo Slice, h...</td>\n",
       "      <td>NaN</td>\n",
       "    </tr>\n",
       "    <tr>\n",
       "      <td>1</td>\n",
       "      <td>2</td>\n",
       "      <td>FORUMS</td>\n",
       "      <td>implantinformationnetwork.yuku.com</td>\n",
       "      <td>http://implantinformationnetwork.yuku.com/topi...</td>\n",
       "      <td>6/20/2016</td>\n",
       "      <td>0:07:30</td>\n",
       "      <td>6/20/2016 9:37</td>\n",
       "      <td>My Story --</td>\n",
       "      <td>&lt;p&gt;&lt;font face=\"sans-serif\" size=\"3\"&gt;I have had...</td>\n",
       "      <td>NaN</td>\n",
       "    </tr>\n",
       "    <tr>\n",
       "      <td>2</td>\n",
       "      <td>3</td>\n",
       "      <td>BLOG</td>\n",
       "      <td>http://cestlapharm.blogspot.com</td>\n",
       "      <td>http://cestlapharm.blogspot.com/2016/06/us-fda...</td>\n",
       "      <td>6/15/2016</td>\n",
       "      <td>15:44:00</td>\n",
       "      <td>6/16/2016 1:14</td>\n",
       "      <td>US FDA ?????canagliflozin?dapagliflozin?????????</td>\n",
       "      <td>Previously, sodium-glucose cotransporter-2 (SG...</td>\n",
       "      <td>NaN</td>\n",
       "    </tr>\n",
       "    <tr>\n",
       "      <td>3</td>\n",
       "      <td>4</td>\n",
       "      <td>FORUMS</td>\n",
       "      <td>healthboards.com</td>\n",
       "      <td>http://www.healthboards.com/boards/heart-disor...</td>\n",
       "      <td>7/17/2016</td>\n",
       "      <td>19:41:00</td>\n",
       "      <td>NaN</td>\n",
       "      <td>NaN</td>\n",
       "      <td>Hello. I suffer from congestive heart failure ...</td>\n",
       "      <td>NaN</td>\n",
       "    </tr>\n",
       "    <tr>\n",
       "      <td>4</td>\n",
       "      <td>5</td>\n",
       "      <td>BLOG</td>\n",
       "      <td>http://www.sciencecodex.com</td>\n",
       "      <td>http://www.sciencecodex.com/vitamin_d_improves...</td>\n",
       "      <td>4/4/2016</td>\n",
       "      <td>15:30:45</td>\n",
       "      <td>4/5/2016 1:00</td>\n",
       "      <td>Vitamin D improves heart function, study finds</td>\n",
       "      <td>A daily dose of vitamin D3 improves heart func...</td>\n",
       "      <td>NaN</td>\n",
       "    </tr>\n",
       "  </tbody>\n",
       "</table>\n",
       "</div>"
      ],
      "text/plain": [
       "   Index  Source                                Host  \\\n",
       "0      1    BLOG                     uhmagonline.com   \n",
       "1      2  FORUMS  implantinformationnetwork.yuku.com   \n",
       "2      3    BLOG     http://cestlapharm.blogspot.com   \n",
       "3      4  FORUMS                    healthboards.com   \n",
       "4      5    BLOG         http://www.sciencecodex.com   \n",
       "\n",
       "                                                Link   Date(ET)  Time(ET)  \\\n",
       "0  http://uhmagonline.com/son-of-the-late-kimbo-s...  7/30/2016   0:41:23   \n",
       "1  http://implantinformationnetwork.yuku.com/topi...  6/20/2016   0:07:30   \n",
       "2  http://cestlapharm.blogspot.com/2016/06/us-fda...  6/15/2016  15:44:00   \n",
       "3  http://www.healthboards.com/boards/heart-disor...  7/17/2016  19:41:00   \n",
       "4  http://www.sciencecodex.com/vitamin_d_improves...   4/4/2016  15:30:45   \n",
       "\n",
       "        time(GMT)                                             Title  \\\n",
       "0             NaN                                               NaN   \n",
       "1  6/20/2016 9:37                                       My Story --   \n",
       "2  6/16/2016 1:14  US FDA ?????canagliflozin?dapagliflozin?????????   \n",
       "3             NaN                                               NaN   \n",
       "4   4/5/2016 1:00    Vitamin D improves heart function, study finds   \n",
       "\n",
       "                                     TRANS_CONV_TEXT Unnamed: 9  \n",
       "0  Baby Slice, the son of the late Kimbo Slice, h...        NaN  \n",
       "1  <p><font face=\"sans-serif\" size=\"3\">I have had...        NaN  \n",
       "2  Previously, sodium-glucose cotransporter-2 (SG...        NaN  \n",
       "3  Hello. I suffer from congestive heart failure ...        NaN  \n",
       "4  A daily dose of vitamin D3 improves heart func...        NaN  "
      ]
     },
     "execution_count": 7,
     "metadata": {},
     "output_type": "execute_result"
    }
   ],
   "source": [
    "TestDataset['Date(ET)'] = TestDataset.apply(RightFormat, axis=1)\n",
    "TestDataset.head()"
   ]
  },
  {
   "cell_type": "code",
   "execution_count": 8,
   "metadata": {},
   "outputs": [],
   "source": [
    "#Converting Date(ET) column to datetime format\n",
    "TrainDataset['Date(ET)'] = pd.to_datetime(TrainDataset['Date(ET)']) \n",
    "TestDataset['Date(ET)'] = pd.to_datetime(TestDataset['Date(ET)']) "
   ]
  },
  {
   "cell_type": "code",
   "execution_count": 9,
   "metadata": {},
   "outputs": [
    {
     "name": "stdout",
     "output_type": "stream",
     "text": [
      "Transaction start date:  2016-02-01 00:00:00\n",
      "Transaction end date:  2016-07-31 00:00:00\n"
     ]
    }
   ],
   "source": [
    "#Start and end data of transactions in training data\n",
    "print(\"Transaction start date: \",min(TrainDataset['Date(ET)']))\n",
    "print(\"Transaction end date: \", max(TrainDataset['Date(ET)']))"
   ]
  },
  {
   "cell_type": "code",
   "execution_count": 10,
   "metadata": {},
   "outputs": [
    {
     "name": "stdout",
     "output_type": "stream",
     "text": [
      "Transaction start date:  2016-02-01 00:00:00\n",
      "Transaction end date:  2016-07-31 00:00:00\n"
     ]
    }
   ],
   "source": [
    "#Start and end data of transactions in training data\n",
    "print(\"Transaction start date: \",min(TestDataset['Date(ET)']))\n",
    "print(\"Transaction end date: \", max(TestDataset['Date(ET)']))"
   ]
  },
  {
   "cell_type": "markdown",
   "metadata": {},
   "source": [
    "### Start and end data of transactions in training data and test data shows that the data in training and test set is from same time period."
   ]
  },
  {
   "cell_type": "code",
   "execution_count": 11,
   "metadata": {},
   "outputs": [],
   "source": [
    "#Converting Date to month and year\n",
    "TrainDataset['Month'] = TrainDataset['Date(ET)'].dt.month\n",
    "TrainDataset['Year'] = TrainDataset['Date(ET)'].dt.year"
   ]
  },
  {
   "cell_type": "code",
   "execution_count": 12,
   "metadata": {},
   "outputs": [],
   "source": [
    "TestDataset['Month'] = TestDataset['Date(ET)'].dt.month\n",
    "TestDataset['Year'] = TestDataset['Date(ET)'].dt.year"
   ]
  },
  {
   "cell_type": "code",
   "execution_count": 13,
   "metadata": {
    "scrolled": false
   },
   "outputs": [
    {
     "name": "stderr",
     "output_type": "stream",
     "text": [
      "/Users/kashikapuri/opt/anaconda3/lib/python3.7/site-packages/ipykernel_launcher.py:2: FutureWarning: `Series.plot()` should not be called with positional arguments, only keyword arguments. The order of positional arguments will change in the future. Use `Series.plot(kind='bar')` instead of `Series.plot('bar',)`.\n",
      "  \n"
     ]
    },
    {
     "data": {
      "text/plain": [
       "<matplotlib.axes._subplots.AxesSubplot at 0x113ce0390>"
      ]
     },
     "execution_count": 13,
     "metadata": {},
     "output_type": "execute_result"
    }
   ],
   "source": [
    "#Visualize the Y variable i.e. Patient_Tag\n",
    "TrainDataset['Patient_Tag'].value_counts().plot('bar')"
   ]
  },
  {
   "cell_type": "markdown",
   "metadata": {},
   "source": [
    "### The above plot of Patient_Tag shows that the data is highly unbalanced. The count of Patient_Tag = 1 is very high as compared to Patient_Tag = 0."
   ]
  },
  {
   "cell_type": "code",
   "execution_count": 14,
   "metadata": {},
   "outputs": [
    {
     "data": {
      "image/png": "[encoded data removed]",
      "text/plain": [
       "<Figure size 432x288 with 1 Axes>"
      ]
     },
     "metadata": {
      "needs_background": "light"
     },
     "output_type": "display_data"
    }
   ],
   "source": [
    "#Visualize Month \n",
    "import seaborn as sns\n",
    "ax = sns.countplot(x=\"Month\", data=TrainDataset)\n",
    "\n",
    "for p in ax.patches:\n",
    "        ax.annotate(format(p.get_height()), (p.get_x()+0.1, p.get_height()+5))"
   ]
  },
  {
   "cell_type": "markdown",
   "metadata": {},
   "source": [
    "### The above plot shows monthly count. The count in 6th month is higher as compared to others."
   ]
  },
  {
   "cell_type": "code",
   "execution_count": 15,
   "metadata": {
    "scrolled": true
   },
   "outputs": [
    {
     "data": {
      "image/png": "[encoded data removed]",
      "text/plain": [
       "<Figure size 432x288 with 1 Axes>"
      ]
     },
     "metadata": {
      "needs_background": "light"
     },
     "output_type": "display_data"
    }
   ],
   "source": [
    "ax = sns.countplot(x=\"Year\", data=TrainDataset)\n",
    "\n",
    "for p in ax.patches:\n",
    "        ax.annotate(format(p.get_height()), (p.get_x()+0.1, p.get_height()+5))"
   ]
  },
  {
   "cell_type": "markdown",
   "metadata": {},
   "source": [
    "### The above plot shows that there is only 1 value in the year column i.e. 2016. Because of the presence of only 1 value in this year variable, there is no significance in this variable."
   ]
  },
  {
   "cell_type": "code",
   "execution_count": 16,
   "metadata": {},
   "outputs": [],
   "source": [
    "#Drop year column due to no significance\n",
    "#Drop Date(ET) as month is extracted from it.\n",
    "TrainDataset.drop(['Date(ET)','Year'], axis = 1, inplace = True)\n",
    "TestDataset.drop(['Date(ET)','Year'], axis = 1, inplace = True)"
   ]
  },
  {
   "cell_type": "code",
   "execution_count": 17,
   "metadata": {},
   "outputs": [
    {
     "data": {
      "image/png": "[encoded data removed]",
      "text/plain": [
       "<Figure size 432x288 with 1 Axes>"
      ]
     },
     "metadata": {
      "needs_background": "light"
     },
     "output_type": "display_data"
    }
   ],
   "source": [
    "ax = sns.countplot(x=\"Month\", hue=\"Patient_Tag\", data=TrainDataset)\n",
    "\n",
    "for p in ax.patches:\n",
    "        ax.annotate(format(p.get_height()), (p.get_x()+0.1, p.get_height()+5))"
   ]
  },
  {
   "cell_type": "markdown",
   "metadata": {},
   "source": [
    "### The above plot  shows the monthly count corresponding to each tag. This shows that there is relation in month and tag."
   ]
  },
  {
   "cell_type": "code",
   "execution_count": 18,
   "metadata": {},
   "outputs": [
    {
     "name": "stderr",
     "output_type": "stream",
     "text": [
      "/Users/kashikapuri/opt/anaconda3/lib/python3.7/site-packages/ipykernel_launcher.py:2: FutureWarning: `Series.plot()` should not be called with positional arguments, only keyword arguments. The order of positional arguments will change in the future. Use `Series.plot(kind='bar')` instead of `Series.plot('bar',)`.\n",
      "  \n"
     ]
    },
    {
     "data": {
      "text/plain": [
       "<matplotlib.axes._subplots.AxesSubplot at 0x1a16a93650>"
      ]
     },
     "execution_count": 18,
     "metadata": {},
     "output_type": "execute_result"
    },
    {
     "data": {
      "image/png": "[encoded data removed]",
      "text/plain": [
       "<Figure size 432x288 with 1 Axes>"
      ]
     },
     "metadata": {
      "needs_background": "light"
     },
     "output_type": "display_data"
    }
   ],
   "source": [
    "#Visualize Source column \n",
    "TrainDataset['Source'].value_counts().plot('bar')"
   ]
  },
  {
   "cell_type": "code",
   "execution_count": 19,
   "metadata": {},
   "outputs": [],
   "source": [
    "#There is a need to uncapitilize the column as the results are duplicating\n",
    "TrainDataset['Source'] = TrainDataset['Source'].apply(lambda x: x.lower())"
   ]
  },
  {
   "cell_type": "code",
   "execution_count": 20,
   "metadata": {},
   "outputs": [
    {
     "name": "stderr",
     "output_type": "stream",
     "text": [
      "/Users/kashikapuri/opt/anaconda3/lib/python3.7/site-packages/ipykernel_launcher.py:1: FutureWarning: `Series.plot()` should not be called with positional arguments, only keyword arguments. The order of positional arguments will change in the future. Use `Series.plot(kind='bar')` instead of `Series.plot('bar',)`.\n",
      "  \"\"\"Entry point for launching an IPython kernel.\n"
     ]
    },
    {
     "data": {
      "text/plain": [
       "<matplotlib.axes._subplots.AxesSubplot at 0x1137e09d0>"
      ]
     },
     "execution_count": 20,
     "metadata": {},
     "output_type": "execute_result"
    },
    {
     "data": {
      "image/png": "[encoded data removed]",
      "text/plain": [
       "<Figure size 432x288 with 1 Axes>"
      ]
     },
     "metadata": {
      "needs_background": "light"
     },
     "output_type": "display_data"
    }
   ],
   "source": [
    "TrainDataset['Source'].value_counts().plot('bar')"
   ]
  },
  {
   "cell_type": "markdown",
   "metadata": {},
   "source": [
    "### The above plot shows the count of Source column. The maximum count from Forums."
   ]
  },
  {
   "cell_type": "code",
   "execution_count": 21,
   "metadata": {
    "scrolled": true
   },
   "outputs": [
    {
     "data": {
      "image/png": "[encoded data removed]",
      "text/plain": [
       "<Figure size 432x288 with 1 Axes>"
      ]
     },
     "metadata": {
      "needs_background": "light"
     },
     "output_type": "display_data"
    }
   ],
   "source": [
    "ax = sns.countplot(x=\"Source\", hue=\"Patient_Tag\", data=TrainDataset)\n",
    "\n",
    "for p in ax.patches:\n",
    "        ax.annotate(format(p.get_height()), (p.get_x()+0.1, p.get_height()+5))"
   ]
  },
  {
   "cell_type": "markdown",
   "metadata": {},
   "source": [
    "### The above plot shows the count of Source column corresponding to each tag. This shows that there is relation in source and tag."
   ]
  },
  {
   "cell_type": "code",
   "execution_count": 22,
   "metadata": {},
   "outputs": [
    {
     "data": {
      "text/html": [
       "<div>\n",
       "<style scoped>\n",
       "    .dataframe tbody tr th:only-of-type {\n",
       "        vertical-align: middle;\n",
       "    }\n",
       "\n",
       "    .dataframe tbody tr th {\n",
       "        vertical-align: top;\n",
       "    }\n",
       "\n",
       "    .dataframe thead th {\n",
       "        text-align: right;\n",
       "    }\n",
       "</style>\n",
       "<table border=\"1\" class=\"dataframe\">\n",
       "  <thead>\n",
       "    <tr style=\"text-align: right;\">\n",
       "      <th></th>\n",
       "      <th>Source_blog</th>\n",
       "      <th>Source_facebook</th>\n",
       "      <th>Source_forums</th>\n",
       "      <th>Source_youtube</th>\n",
       "    </tr>\n",
       "  </thead>\n",
       "  <tbody>\n",
       "    <tr>\n",
       "      <td>0</td>\n",
       "      <td>0</td>\n",
       "      <td>0</td>\n",
       "      <td>1</td>\n",
       "      <td>0</td>\n",
       "    </tr>\n",
       "    <tr>\n",
       "      <td>1</td>\n",
       "      <td>0</td>\n",
       "      <td>0</td>\n",
       "      <td>1</td>\n",
       "      <td>0</td>\n",
       "    </tr>\n",
       "    <tr>\n",
       "      <td>2</td>\n",
       "      <td>1</td>\n",
       "      <td>0</td>\n",
       "      <td>0</td>\n",
       "      <td>0</td>\n",
       "    </tr>\n",
       "    <tr>\n",
       "      <td>3</td>\n",
       "      <td>0</td>\n",
       "      <td>0</td>\n",
       "      <td>1</td>\n",
       "      <td>0</td>\n",
       "    </tr>\n",
       "    <tr>\n",
       "      <td>4</td>\n",
       "      <td>0</td>\n",
       "      <td>0</td>\n",
       "      <td>1</td>\n",
       "      <td>0</td>\n",
       "    </tr>\n",
       "  </tbody>\n",
       "</table>\n",
       "</div>"
      ],
      "text/plain": [
       "   Source_blog  Source_facebook  Source_forums  Source_youtube\n",
       "0            0                0              1               0\n",
       "1            0                0              1               0\n",
       "2            1                0              0               0\n",
       "3            0                0              1               0\n",
       "4            0                0              1               0"
      ]
     },
     "execution_count": 22,
     "metadata": {},
     "output_type": "execute_result"
    }
   ],
   "source": [
    "# Convert Source to a numerical variable\n",
    "DummiesSourceTrain = pd.get_dummies(TrainDataset['Source'], prefix = 'Source')\n",
    "DummiesSourceTrain.head()"
   ]
  },
  {
   "cell_type": "code",
   "execution_count": 23,
   "metadata": {
    "scrolled": true
   },
   "outputs": [
    {
     "name": "stderr",
     "output_type": "stream",
     "text": [
      "/Users/kashikapuri/opt/anaconda3/lib/python3.7/site-packages/ipykernel_launcher.py:2: FutureWarning: `Series.plot()` should not be called with positional arguments, only keyword arguments. The order of positional arguments will change in the future. Use `Series.plot(kind='bar')` instead of `Series.plot('bar',)`.\n",
      "  \n"
     ]
    },
    {
     "data": {
      "text/plain": [
       "<matplotlib.axes._subplots.AxesSubplot at 0x1a16dcfa10>"
      ]
     },
     "execution_count": 23,
     "metadata": {},
     "output_type": "execute_result"
    },
    {
     "data": {
      "image/png": "[encoded data removed]",
      "text/plain": [
       "<Figure size 432x288 with 1 Axes>"
      ]
     },
     "metadata": {
      "needs_background": "light"
     },
     "output_type": "display_data"
    }
   ],
   "source": [
    "TestDataset['Source'] = TestDataset['Source'].apply(lambda x: x.lower())\n",
    "TestDataset['Source'].value_counts().plot('bar')"
   ]
  },
  {
   "cell_type": "code",
   "execution_count": 24,
   "metadata": {},
   "outputs": [
    {
     "data": {
      "text/html": [
       "<div>\n",
       "<style scoped>\n",
       "    .dataframe tbody tr th:only-of-type {\n",
       "        vertical-align: middle;\n",
       "    }\n",
       "\n",
       "    .dataframe tbody tr th {\n",
       "        vertical-align: top;\n",
       "    }\n",
       "\n",
       "    .dataframe thead th {\n",
       "        text-align: right;\n",
       "    }\n",
       "</style>\n",
       "<table border=\"1\" class=\"dataframe\">\n",
       "  <thead>\n",
       "    <tr style=\"text-align: right;\">\n",
       "      <th></th>\n",
       "      <th>Source_blog</th>\n",
       "      <th>Source_facebook</th>\n",
       "      <th>Source_forums</th>\n",
       "      <th>Source_youtube</th>\n",
       "    </tr>\n",
       "  </thead>\n",
       "  <tbody>\n",
       "    <tr>\n",
       "      <td>0</td>\n",
       "      <td>1</td>\n",
       "      <td>0</td>\n",
       "      <td>0</td>\n",
       "      <td>0</td>\n",
       "    </tr>\n",
       "    <tr>\n",
       "      <td>1</td>\n",
       "      <td>0</td>\n",
       "      <td>0</td>\n",
       "      <td>1</td>\n",
       "      <td>0</td>\n",
       "    </tr>\n",
       "    <tr>\n",
       "      <td>2</td>\n",
       "      <td>1</td>\n",
       "      <td>0</td>\n",
       "      <td>0</td>\n",
       "      <td>0</td>\n",
       "    </tr>\n",
       "    <tr>\n",
       "      <td>3</td>\n",
       "      <td>0</td>\n",
       "      <td>0</td>\n",
       "      <td>1</td>\n",
       "      <td>0</td>\n",
       "    </tr>\n",
       "    <tr>\n",
       "      <td>4</td>\n",
       "      <td>1</td>\n",
       "      <td>0</td>\n",
       "      <td>0</td>\n",
       "      <td>0</td>\n",
       "    </tr>\n",
       "  </tbody>\n",
       "</table>\n",
       "</div>"
      ],
      "text/plain": [
       "   Source_blog  Source_facebook  Source_forums  Source_youtube\n",
       "0            1                0              0               0\n",
       "1            0                0              1               0\n",
       "2            1                0              0               0\n",
       "3            0                0              1               0\n",
       "4            1                0              0               0"
      ]
     },
     "execution_count": 24,
     "metadata": {},
     "output_type": "execute_result"
    }
   ],
   "source": [
    "DummiesSourceTest = pd.get_dummies(TestDataset['Source'], prefix = 'Source')\n",
    "DummiesSourceTest.head()"
   ]
  },
  {
   "cell_type": "code",
   "execution_count": 25,
   "metadata": {},
   "outputs": [],
   "source": [
    "#Avoid Dummy variable trap\n",
    "DummiesSourceTrain = DummiesSourceTrain.drop('Source_blog', axis=1)\n",
    "DummiesSourceTest = DummiesSourceTest.drop('Source_blog', axis=1)"
   ]
  },
  {
   "cell_type": "code",
   "execution_count": 26,
   "metadata": {},
   "outputs": [],
   "source": [
    "#Add the numerical data to original dataset\n",
    "TrainDataset = pd.concat([TrainDataset, DummiesSourceTrain], axis=1)\n",
    "TestDataset = pd.concat([TestDataset, DummiesSourceTest], axis=1)"
   ]
  },
  {
   "cell_type": "code",
   "execution_count": 27,
   "metadata": {},
   "outputs": [
    {
     "name": "stdout",
     "output_type": "stream",
     "text": [
      "<class 'pandas.core.frame.DataFrame'>\n",
      "RangeIndex: 1157 entries, 0 to 1156\n",
      "Data columns (total 12 columns):\n",
      "Source             1157 non-null object\n",
      "Host               1098 non-null object\n",
      "Link               1157 non-null object\n",
      "Time(ET)           1157 non-null object\n",
      "time(GMT)          996 non-null object\n",
      "Title              941 non-null object\n",
      "TRANS_CONV_TEXT    1156 non-null object\n",
      "Patient_Tag        1157 non-null int64\n",
      "Month              1157 non-null int64\n",
      "Source_facebook    1157 non-null uint8\n",
      "Source_forums      1157 non-null uint8\n",
      "Source_youtube     1157 non-null uint8\n",
      "dtypes: int64(2), object(7), uint8(3)\n",
      "memory usage: 84.9+ KB\n"
     ]
    }
   ],
   "source": [
    "TrainDataset.info()"
   ]
  },
  {
   "cell_type": "code",
   "execution_count": 28,
   "metadata": {},
   "outputs": [
    {
     "name": "stdout",
     "output_type": "stream",
     "text": [
      "<class 'pandas.core.frame.DataFrame'>\n",
      "RangeIndex: 571 entries, 0 to 570\n",
      "Data columns (total 13 columns):\n",
      "Index              571 non-null int64\n",
      "Source             571 non-null object\n",
      "Host               541 non-null object\n",
      "Link               571 non-null object\n",
      "Time(ET)           571 non-null object\n",
      "time(GMT)          480 non-null object\n",
      "Title              454 non-null object\n",
      "TRANS_CONV_TEXT    571 non-null object\n",
      "Unnamed: 9         1 non-null object\n",
      "Month              571 non-null int64\n",
      "Source_facebook    571 non-null uint8\n",
      "Source_forums      571 non-null uint8\n",
      "Source_youtube     571 non-null uint8\n",
      "dtypes: int64(2), object(8), uint8(3)\n",
      "memory usage: 46.4+ KB\n"
     ]
    }
   ],
   "source": [
    "TestDataset.info()"
   ]
  },
  {
   "cell_type": "code",
   "execution_count": 29,
   "metadata": {},
   "outputs": [],
   "source": [
    "#Drop Source as numerical data is extracted from it.\n",
    "TrainDataset.drop(['Source'], axis = 1, inplace = True)\n",
    "TestDataset.drop(['Source'], axis = 1, inplace = True)"
   ]
  },
  {
   "cell_type": "code",
   "execution_count": 30,
   "metadata": {},
   "outputs": [],
   "source": [
    "#Function to define Null Percentage\n",
    "import numpy as np\n",
    "def getNullPercentages(df):\n",
    "    return np.round(pd.isnull(df).sum()/len(df)*100,4).sort_values(ascending = False)"
   ]
  },
  {
   "cell_type": "code",
   "execution_count": 31,
   "metadata": {},
   "outputs": [
    {
     "data": {
      "text/plain": [
       "Title              18.6690\n",
       "time(GMT)          13.9153\n",
       "Host                5.0994\n",
       "TRANS_CONV_TEXT     0.0864\n",
       "Source_youtube      0.0000\n",
       "Source_forums       0.0000\n",
       "Source_facebook     0.0000\n",
       "Month               0.0000\n",
       "Patient_Tag         0.0000\n",
       "Time(ET)            0.0000\n",
       "Link                0.0000\n",
       "dtype: float64"
      ]
     },
     "execution_count": 31,
     "metadata": {},
     "output_type": "execute_result"
    }
   ],
   "source": [
    "#Checking the perecentages of nulls in the columns\n",
    "getNullPercentages(TrainDataset)"
   ]
  },
  {
   "cell_type": "code",
   "execution_count": 32,
   "metadata": {},
   "outputs": [],
   "source": [
    "#Dropping rows containing nulls in the TRANS_CONV_TEXT as they are very less\n",
    "TrainDataset = TrainDataset.loc[~pd.isnull(TrainDataset['TRANS_CONV_TEXT'])]"
   ]
  },
  {
   "cell_type": "code",
   "execution_count": 33,
   "metadata": {},
   "outputs": [
    {
     "data": {
      "text/plain": [
       "Title              18.6851\n",
       "time(GMT)          13.9273\n",
       "Host                5.1038\n",
       "Source_youtube      0.0000\n",
       "Source_forums       0.0000\n",
       "Source_facebook     0.0000\n",
       "Month               0.0000\n",
       "Patient_Tag         0.0000\n",
       "TRANS_CONV_TEXT     0.0000\n",
       "Time(ET)            0.0000\n",
       "Link                0.0000\n",
       "dtype: float64"
      ]
     },
     "execution_count": 33,
     "metadata": {},
     "output_type": "execute_result"
    }
   ],
   "source": [
    "getNullPercentages(TrainDataset)"
   ]
  },
  {
   "cell_type": "code",
   "execution_count": 34,
   "metadata": {
    "scrolled": false
   },
   "outputs": [
    {
     "name": "stdout",
     "output_type": "stream",
     "text": [
      "Unique Values in column: Host\n",
      "\n",
      "www.reddit.com                   57\n",
      "http://www.youtube.com           23\n",
      "reddit.com                       19\n",
      "boards.4chan.org                 18\n",
      "youtube.com                      16\n",
      "                                 ..\n",
      "bbnewsjpbot.blog.fc2.com          1\n",
      "goerie.com                        1\n",
      "http://wwj.cbslocal.com           1\n",
      "forum.nasaspaceflight.com         1\n",
      "http://mgwarrier.blogspot.com     1\n",
      "Name: Host, Length: 615, dtype: int64 \n",
      "\n",
      "Unique Values in column: Link\n",
      "\n",
      "http://www.dailystrength.org/c/Heart_Failure/forum/21593173-brand-new-diagnosed-last-week#                                                                                 2\n",
      "http://www.quitsmokingmessageboard.com/index.php?/topic/70488-where-does-the-time-go/                                                                                      2\n",
      "http://www.biospace.com/news_story.aspx?StoryID=413543&full=1                                                                                                              2\n",
      "https://www.e-cigarette-forum.com/forum/threads/official-provari-procyon-page.735343/page-93                                                                               2\n",
      "https://answers.yahoo.com/question/index?qid=20160615021712AAGeoUE                                                                                                         2\n",
      "                                                                                                                                                                          ..\n",
      "http://www.cpaptalk.com/viewtopic.php?t=110350#p1057228                                                                                                                    1\n",
      "http://community.babycenter.com/post/a61936912/help-from-yo-mamma-with-poll?cpg=3#                                                                                         1\n",
      "http://www.patient.co.uk/forums/discuss/enlarged-heart-511396?order=latest#2094768                                                                                         1\n",
      "http://community.babycenter.com/post/a62899687/back-to-gym-post-cesarian-still-breastfeeding.?cpg=2#c2532949403                                                            1\n",
      "http://www.dailymail.co.uk/sciencetech/article-3560593/Thousands-patients-benefit-3-day-treatment-rolled-hospitals-month.html?ITO=1490&ns_mchannel=rss&ns_campaign=1490    1\n",
      "Name: Link, Length: 1151, dtype: int64 \n",
      "\n"
     ]
    }
   ],
   "source": [
    "# Visualize Host and Link \n",
    "for name in ['Host','Link']:\n",
    "    print(\"Unique Values in column: {}\\n\".format(name))\n",
    "    print(TrainDataset[name].value_counts(),'\\n')"
   ]
  },
  {
   "cell_type": "code",
   "execution_count": 35,
   "metadata": {},
   "outputs": [
    {
     "data": {
      "image/png": "[encoded data removed]",
      "text/plain": [
       "<Figure size 432x288 with 1 Axes>"
      ]
     },
     "metadata": {
      "needs_background": "light"
     },
     "output_type": "display_data"
    }
   ],
   "source": [
    "ax = sns.countplot(x=\"Host\", hue=\"Patient_Tag\", data=TrainDataset)"
   ]
  },
  {
   "cell_type": "markdown",
   "metadata": {},
   "source": [
    "### There are so many values for Host and Link. Moreover Link is even unique for all rows. The above plot is not even showing much relation between Host or Link and Patient_tag"
   ]
  },
  {
   "cell_type": "code",
   "execution_count": 36,
   "metadata": {},
   "outputs": [],
   "source": [
    "#Drop Host and Link \n",
    "TrainDataset.drop(['Link','Host'], axis = 1, inplace = True)\n",
    "TestDataset.drop(['Link','Host'], axis = 1, inplace = True)"
   ]
  },
  {
   "cell_type": "code",
   "execution_count": 37,
   "metadata": {},
   "outputs": [],
   "source": [
    "#Visualize Time(ET)\n",
    "#Function to visualize right format of Time(ET)\n",
    "import time\n",
    "def RightFormat(data):\n",
    "    if('.' in data['Time(ET)']):\n",
    "        return (time.strftime('%H:%M:%S', time.gmtime(float(data['time(GMT)']))))\n",
    "    elif('/' in data['Time(ET)']):\n",
    "        return data['time(GMT)']\n",
    "    else:\n",
    "        return data['Time(ET)']"
   ]
  },
  {
   "cell_type": "code",
   "execution_count": 38,
   "metadata": {},
   "outputs": [
    {
     "data": {
      "text/html": [
       "<div>\n",
       "<style scoped>\n",
       "    .dataframe tbody tr th:only-of-type {\n",
       "        vertical-align: middle;\n",
       "    }\n",
       "\n",
       "    .dataframe tbody tr th {\n",
       "        vertical-align: top;\n",
       "    }\n",
       "\n",
       "    .dataframe thead th {\n",
       "        text-align: right;\n",
       "    }\n",
       "</style>\n",
       "<table border=\"1\" class=\"dataframe\">\n",
       "  <thead>\n",
       "    <tr style=\"text-align: right;\">\n",
       "      <th></th>\n",
       "      <th>Time(ET)</th>\n",
       "      <th>time(GMT)</th>\n",
       "      <th>Title</th>\n",
       "      <th>TRANS_CONV_TEXT</th>\n",
       "      <th>Patient_Tag</th>\n",
       "      <th>Month</th>\n",
       "      <th>Source_facebook</th>\n",
       "      <th>Source_forums</th>\n",
       "      <th>Source_youtube</th>\n",
       "    </tr>\n",
       "  </thead>\n",
       "  <tbody>\n",
       "    <tr>\n",
       "      <td>0</td>\n",
       "      <td>13:58:00</td>\n",
       "      <td>6/15/2016 23:28</td>\n",
       "      <td>Epstein</td>\n",
       "      <td>I don't disagree with you in principle. I'm ju...</td>\n",
       "      <td>0</td>\n",
       "      <td>6</td>\n",
       "      <td>0</td>\n",
       "      <td>1</td>\n",
       "      <td>0</td>\n",
       "    </tr>\n",
       "    <tr>\n",
       "      <td>1</td>\n",
       "      <td>11:48:18</td>\n",
       "      <td>42498.21667</td>\n",
       "      <td>Enlarged Heart.Thread Enlarged Heart</td>\n",
       "      <td>I am always dizzy I get dizzy standing up so I...</td>\n",
       "      <td>1</td>\n",
       "      <td>5</td>\n",
       "      <td>0</td>\n",
       "      <td>1</td>\n",
       "      <td>0</td>\n",
       "    </tr>\n",
       "    <tr>\n",
       "      <td>2</td>\n",
       "      <td>15:00:38</td>\n",
       "      <td>4/15/2016 0:30</td>\n",
       "      <td>Queen Latifah Joins American Heart Association...</td>\n",
       "      <td>Axelle/Bauer-Griffin/FilmMagic(NEW YORK) -- Qu...</td>\n",
       "      <td>0</td>\n",
       "      <td>4</td>\n",
       "      <td>0</td>\n",
       "      <td>0</td>\n",
       "      <td>0</td>\n",
       "    </tr>\n",
       "    <tr>\n",
       "      <td>3</td>\n",
       "      <td>20:46:00</td>\n",
       "      <td>6/19/2016 6:16</td>\n",
       "      <td>Bulaemia</td>\n",
       "      <td>I am 17 and I have been throwing up for about ...</td>\n",
       "      <td>1</td>\n",
       "      <td>6</td>\n",
       "      <td>0</td>\n",
       "      <td>1</td>\n",
       "      <td>0</td>\n",
       "    </tr>\n",
       "    <tr>\n",
       "      <td>4</td>\n",
       "      <td>3:26:00</td>\n",
       "      <td>6/15/2016 12:56</td>\n",
       "      <td>DIY Silver interconnects and RCAs???</td>\n",
       "      <td>Quote: Originally Posted by Boyan Silyavski Wa...</td>\n",
       "      <td>0</td>\n",
       "      <td>6</td>\n",
       "      <td>0</td>\n",
       "      <td>1</td>\n",
       "      <td>0</td>\n",
       "    </tr>\n",
       "  </tbody>\n",
       "</table>\n",
       "</div>"
      ],
      "text/plain": [
       "   Time(ET)        time(GMT)  \\\n",
       "0  13:58:00  6/15/2016 23:28   \n",
       "1  11:48:18      42498.21667   \n",
       "2  15:00:38   4/15/2016 0:30   \n",
       "3  20:46:00   6/19/2016 6:16   \n",
       "4   3:26:00  6/15/2016 12:56   \n",
       "\n",
       "                                               Title  \\\n",
       "0                                            Epstein   \n",
       "1               Enlarged Heart.Thread Enlarged Heart   \n",
       "2  Queen Latifah Joins American Heart Association...   \n",
       "3                                           Bulaemia   \n",
       "4               DIY Silver interconnects and RCAs???   \n",
       "\n",
       "                                     TRANS_CONV_TEXT  Patient_Tag  Month  \\\n",
       "0  I don't disagree with you in principle. I'm ju...            0      6   \n",
       "1  I am always dizzy I get dizzy standing up so I...            1      5   \n",
       "2  Axelle/Bauer-Griffin/FilmMagic(NEW YORK) -- Qu...            0      4   \n",
       "3  I am 17 and I have been throwing up for about ...            1      6   \n",
       "4  Quote: Originally Posted by Boyan Silyavski Wa...            0      6   \n",
       "\n",
       "   Source_facebook  Source_forums  Source_youtube  \n",
       "0                0              1               0  \n",
       "1                0              1               0  \n",
       "2                0              0               0  \n",
       "3                0              1               0  \n",
       "4                0              1               0  "
      ]
     },
     "execution_count": 38,
     "metadata": {},
     "output_type": "execute_result"
    }
   ],
   "source": [
    "# Applying function RightFormat to filter time in right format\n",
    "TrainDataset['Time(ET)'] = TrainDataset.apply(RightFormat, axis=1)\n",
    "TrainDataset.head()"
   ]
  },
  {
   "cell_type": "code",
   "execution_count": 39,
   "metadata": {},
   "outputs": [
    {
     "data": {
      "text/html": [
       "<div>\n",
       "<style scoped>\n",
       "    .dataframe tbody tr th:only-of-type {\n",
       "        vertical-align: middle;\n",
       "    }\n",
       "\n",
       "    .dataframe tbody tr th {\n",
       "        vertical-align: top;\n",
       "    }\n",
       "\n",
       "    .dataframe thead th {\n",
       "        text-align: right;\n",
       "    }\n",
       "</style>\n",
       "<table border=\"1\" class=\"dataframe\">\n",
       "  <thead>\n",
       "    <tr style=\"text-align: right;\">\n",
       "      <th></th>\n",
       "      <th>Index</th>\n",
       "      <th>Time(ET)</th>\n",
       "      <th>time(GMT)</th>\n",
       "      <th>Title</th>\n",
       "      <th>TRANS_CONV_TEXT</th>\n",
       "      <th>Unnamed: 9</th>\n",
       "      <th>Month</th>\n",
       "      <th>Source_facebook</th>\n",
       "      <th>Source_forums</th>\n",
       "      <th>Source_youtube</th>\n",
       "    </tr>\n",
       "  </thead>\n",
       "  <tbody>\n",
       "    <tr>\n",
       "      <td>0</td>\n",
       "      <td>1</td>\n",
       "      <td>0:41:23</td>\n",
       "      <td>NaN</td>\n",
       "      <td>NaN</td>\n",
       "      <td>Baby Slice, the son of the late Kimbo Slice, h...</td>\n",
       "      <td>NaN</td>\n",
       "      <td>7</td>\n",
       "      <td>0</td>\n",
       "      <td>0</td>\n",
       "      <td>0</td>\n",
       "    </tr>\n",
       "    <tr>\n",
       "      <td>1</td>\n",
       "      <td>2</td>\n",
       "      <td>0:07:30</td>\n",
       "      <td>6/20/2016 9:37</td>\n",
       "      <td>My Story --</td>\n",
       "      <td>&lt;p&gt;&lt;font face=\"sans-serif\" size=\"3\"&gt;I have had...</td>\n",
       "      <td>NaN</td>\n",
       "      <td>6</td>\n",
       "      <td>0</td>\n",
       "      <td>1</td>\n",
       "      <td>0</td>\n",
       "    </tr>\n",
       "    <tr>\n",
       "      <td>2</td>\n",
       "      <td>3</td>\n",
       "      <td>15:44:00</td>\n",
       "      <td>6/16/2016 1:14</td>\n",
       "      <td>US FDA ?????canagliflozin?dapagliflozin?????????</td>\n",
       "      <td>Previously, sodium-glucose cotransporter-2 (SG...</td>\n",
       "      <td>NaN</td>\n",
       "      <td>6</td>\n",
       "      <td>0</td>\n",
       "      <td>0</td>\n",
       "      <td>0</td>\n",
       "    </tr>\n",
       "    <tr>\n",
       "      <td>3</td>\n",
       "      <td>4</td>\n",
       "      <td>19:41:00</td>\n",
       "      <td>NaN</td>\n",
       "      <td>NaN</td>\n",
       "      <td>Hello. I suffer from congestive heart failure ...</td>\n",
       "      <td>NaN</td>\n",
       "      <td>7</td>\n",
       "      <td>0</td>\n",
       "      <td>1</td>\n",
       "      <td>0</td>\n",
       "    </tr>\n",
       "    <tr>\n",
       "      <td>4</td>\n",
       "      <td>5</td>\n",
       "      <td>15:30:45</td>\n",
       "      <td>4/5/2016 1:00</td>\n",
       "      <td>Vitamin D improves heart function, study finds</td>\n",
       "      <td>A daily dose of vitamin D3 improves heart func...</td>\n",
       "      <td>NaN</td>\n",
       "      <td>4</td>\n",
       "      <td>0</td>\n",
       "      <td>0</td>\n",
       "      <td>0</td>\n",
       "    </tr>\n",
       "  </tbody>\n",
       "</table>\n",
       "</div>"
      ],
      "text/plain": [
       "   Index  Time(ET)       time(GMT)  \\\n",
       "0      1   0:41:23             NaN   \n",
       "1      2   0:07:30  6/20/2016 9:37   \n",
       "2      3  15:44:00  6/16/2016 1:14   \n",
       "3      4  19:41:00             NaN   \n",
       "4      5  15:30:45   4/5/2016 1:00   \n",
       "\n",
       "                                              Title  \\\n",
       "0                                               NaN   \n",
       "1                                       My Story --   \n",
       "2  US FDA ?????canagliflozin?dapagliflozin?????????   \n",
       "3                                               NaN   \n",
       "4    Vitamin D improves heart function, study finds   \n",
       "\n",
       "                                     TRANS_CONV_TEXT Unnamed: 9  Month  \\\n",
       "0  Baby Slice, the son of the late Kimbo Slice, h...        NaN      7   \n",
       "1  <p><font face=\"sans-serif\" size=\"3\">I have had...        NaN      6   \n",
       "2  Previously, sodium-glucose cotransporter-2 (SG...        NaN      6   \n",
       "3  Hello. I suffer from congestive heart failure ...        NaN      7   \n",
       "4  A daily dose of vitamin D3 improves heart func...        NaN      4   \n",
       "\n",
       "   Source_facebook  Source_forums  Source_youtube  \n",
       "0                0              0               0  \n",
       "1                0              1               0  \n",
       "2                0              0               0  \n",
       "3                0              1               0  \n",
       "4                0              0               0  "
      ]
     },
     "execution_count": 39,
     "metadata": {},
     "output_type": "execute_result"
    }
   ],
   "source": [
    "TestDataset['Time(ET)'] = TestDataset.apply(RightFormat, axis=1)\n",
    "TestDataset.head()"
   ]
  },
  {
   "cell_type": "code",
   "execution_count": 40,
   "metadata": {},
   "outputs": [],
   "source": [
    "#Function to convert Time(ET) having AM-PM format \n",
    "def AM_PM(df):\n",
    "    if df['Time(ET)'][-2:] == \"AM\" and df['Time(ET)'][:2] == \"12\":\n",
    "        return \"00\" + df['Time(ET)'][2:-3] + \":00\"\n",
    "               \n",
    "    elif df['Time(ET)'][-2:] == \"AM\": \n",
    "        return df['Time(ET)'][:-3] + \":00\"\n",
    "        \n",
    "    elif df['Time(ET)'][-2:] == \"PM\" and df['Time(ET)'][:2] == \"12\": \n",
    "        return df['Time(ET)'][:-3] + \":00\"\n",
    "    \n",
    "    elif df['Time(ET)'][-2:] == \"PM\" and (df['Time(ET)'][:2] == \"11\" or df['Time(ET)'][:2] == \"10\"): \n",
    "        return str(int(df['Time(ET)'][:2]) + 12) + df['Time(ET)'][2:-3] + \":00\"\n",
    "          \n",
    "    elif df['Time(ET)'][-2:] == \"PM\":\n",
    "        return str(int(df['Time(ET)'][:1]) + 12) + df['Time(ET)'][1:-3] + \":00\"\n",
    "    \n",
    "    else: \n",
    "        return df['Time(ET)']"
   ]
  },
  {
   "cell_type": "code",
   "execution_count": 41,
   "metadata": {},
   "outputs": [
    {
     "data": {
      "text/html": [
       "<div>\n",
       "<style scoped>\n",
       "    .dataframe tbody tr th:only-of-type {\n",
       "        vertical-align: middle;\n",
       "    }\n",
       "\n",
       "    .dataframe tbody tr th {\n",
       "        vertical-align: top;\n",
       "    }\n",
       "\n",
       "    .dataframe thead th {\n",
       "        text-align: right;\n",
       "    }\n",
       "</style>\n",
       "<table border=\"1\" class=\"dataframe\">\n",
       "  <thead>\n",
       "    <tr style=\"text-align: right;\">\n",
       "      <th></th>\n",
       "      <th>Time(ET)</th>\n",
       "      <th>time(GMT)</th>\n",
       "      <th>Title</th>\n",
       "      <th>TRANS_CONV_TEXT</th>\n",
       "      <th>Patient_Tag</th>\n",
       "      <th>Month</th>\n",
       "      <th>Source_facebook</th>\n",
       "      <th>Source_forums</th>\n",
       "      <th>Source_youtube</th>\n",
       "      <th>Time</th>\n",
       "    </tr>\n",
       "  </thead>\n",
       "  <tbody>\n",
       "    <tr>\n",
       "      <td>0</td>\n",
       "      <td>13:58:00</td>\n",
       "      <td>6/15/2016 23:28</td>\n",
       "      <td>Epstein</td>\n",
       "      <td>I don't disagree with you in principle. I'm ju...</td>\n",
       "      <td>0</td>\n",
       "      <td>6</td>\n",
       "      <td>0</td>\n",
       "      <td>1</td>\n",
       "      <td>0</td>\n",
       "      <td>13:58:00</td>\n",
       "    </tr>\n",
       "    <tr>\n",
       "      <td>1</td>\n",
       "      <td>11:48:18</td>\n",
       "      <td>42498.21667</td>\n",
       "      <td>Enlarged Heart.Thread Enlarged Heart</td>\n",
       "      <td>I am always dizzy I get dizzy standing up so I...</td>\n",
       "      <td>1</td>\n",
       "      <td>5</td>\n",
       "      <td>0</td>\n",
       "      <td>1</td>\n",
       "      <td>0</td>\n",
       "      <td>11:48:18</td>\n",
       "    </tr>\n",
       "    <tr>\n",
       "      <td>2</td>\n",
       "      <td>15:00:38</td>\n",
       "      <td>4/15/2016 0:30</td>\n",
       "      <td>Queen Latifah Joins American Heart Association...</td>\n",
       "      <td>Axelle/Bauer-Griffin/FilmMagic(NEW YORK) -- Qu...</td>\n",
       "      <td>0</td>\n",
       "      <td>4</td>\n",
       "      <td>0</td>\n",
       "      <td>0</td>\n",
       "      <td>0</td>\n",
       "      <td>15:00:38</td>\n",
       "    </tr>\n",
       "    <tr>\n",
       "      <td>3</td>\n",
       "      <td>20:46:00</td>\n",
       "      <td>6/19/2016 6:16</td>\n",
       "      <td>Bulaemia</td>\n",
       "      <td>I am 17 and I have been throwing up for about ...</td>\n",
       "      <td>1</td>\n",
       "      <td>6</td>\n",
       "      <td>0</td>\n",
       "      <td>1</td>\n",
       "      <td>0</td>\n",
       "      <td>20:46:00</td>\n",
       "    </tr>\n",
       "    <tr>\n",
       "      <td>4</td>\n",
       "      <td>3:26:00</td>\n",
       "      <td>6/15/2016 12:56</td>\n",
       "      <td>DIY Silver interconnects and RCAs???</td>\n",
       "      <td>Quote: Originally Posted by Boyan Silyavski Wa...</td>\n",
       "      <td>0</td>\n",
       "      <td>6</td>\n",
       "      <td>0</td>\n",
       "      <td>1</td>\n",
       "      <td>0</td>\n",
       "      <td>3:26:00</td>\n",
       "    </tr>\n",
       "  </tbody>\n",
       "</table>\n",
       "</div>"
      ],
      "text/plain": [
       "   Time(ET)        time(GMT)  \\\n",
       "0  13:58:00  6/15/2016 23:28   \n",
       "1  11:48:18      42498.21667   \n",
       "2  15:00:38   4/15/2016 0:30   \n",
       "3  20:46:00   6/19/2016 6:16   \n",
       "4   3:26:00  6/15/2016 12:56   \n",
       "\n",
       "                                               Title  \\\n",
       "0                                            Epstein   \n",
       "1               Enlarged Heart.Thread Enlarged Heart   \n",
       "2  Queen Latifah Joins American Heart Association...   \n",
       "3                                           Bulaemia   \n",
       "4               DIY Silver interconnects and RCAs???   \n",
       "\n",
       "                                     TRANS_CONV_TEXT  Patient_Tag  Month  \\\n",
       "0  I don't disagree with you in principle. I'm ju...            0      6   \n",
       "1  I am always dizzy I get dizzy standing up so I...            1      5   \n",
       "2  Axelle/Bauer-Griffin/FilmMagic(NEW YORK) -- Qu...            0      4   \n",
       "3  I am 17 and I have been throwing up for about ...            1      6   \n",
       "4  Quote: Originally Posted by Boyan Silyavski Wa...            0      6   \n",
       "\n",
       "   Source_facebook  Source_forums  Source_youtube      Time  \n",
       "0                0              1               0  13:58:00  \n",
       "1                0              1               0  11:48:18  \n",
       "2                0              0               0  15:00:38  \n",
       "3                0              1               0  20:46:00  \n",
       "4                0              1               0   3:26:00  "
      ]
     },
     "execution_count": 41,
     "metadata": {},
     "output_type": "execute_result"
    }
   ],
   "source": [
    "# Applying function AM_PM to convert time in required format\n",
    "TrainDataset['Time'] = TrainDataset.apply(AM_PM, axis=1)\n",
    "TrainDataset.head()"
   ]
  },
  {
   "cell_type": "code",
   "execution_count": 42,
   "metadata": {},
   "outputs": [
    {
     "data": {
      "text/html": [
       "<div>\n",
       "<style scoped>\n",
       "    .dataframe tbody tr th:only-of-type {\n",
       "        vertical-align: middle;\n",
       "    }\n",
       "\n",
       "    .dataframe tbody tr th {\n",
       "        vertical-align: top;\n",
       "    }\n",
       "\n",
       "    .dataframe thead th {\n",
       "        text-align: right;\n",
       "    }\n",
       "</style>\n",
       "<table border=\"1\" class=\"dataframe\">\n",
       "  <thead>\n",
       "    <tr style=\"text-align: right;\">\n",
       "      <th></th>\n",
       "      <th>Index</th>\n",
       "      <th>Time(ET)</th>\n",
       "      <th>time(GMT)</th>\n",
       "      <th>Title</th>\n",
       "      <th>TRANS_CONV_TEXT</th>\n",
       "      <th>Unnamed: 9</th>\n",
       "      <th>Month</th>\n",
       "      <th>Source_facebook</th>\n",
       "      <th>Source_forums</th>\n",
       "      <th>Source_youtube</th>\n",
       "      <th>Time</th>\n",
       "    </tr>\n",
       "  </thead>\n",
       "  <tbody>\n",
       "    <tr>\n",
       "      <td>0</td>\n",
       "      <td>1</td>\n",
       "      <td>0:41:23</td>\n",
       "      <td>NaN</td>\n",
       "      <td>NaN</td>\n",
       "      <td>Baby Slice, the son of the late Kimbo Slice, h...</td>\n",
       "      <td>NaN</td>\n",
       "      <td>7</td>\n",
       "      <td>0</td>\n",
       "      <td>0</td>\n",
       "      <td>0</td>\n",
       "      <td>0:41:23</td>\n",
       "    </tr>\n",
       "    <tr>\n",
       "      <td>1</td>\n",
       "      <td>2</td>\n",
       "      <td>0:07:30</td>\n",
       "      <td>6/20/2016 9:37</td>\n",
       "      <td>My Story --</td>\n",
       "      <td>&lt;p&gt;&lt;font face=\"sans-serif\" size=\"3\"&gt;I have had...</td>\n",
       "      <td>NaN</td>\n",
       "      <td>6</td>\n",
       "      <td>0</td>\n",
       "      <td>1</td>\n",
       "      <td>0</td>\n",
       "      <td>0:07:30</td>\n",
       "    </tr>\n",
       "    <tr>\n",
       "      <td>2</td>\n",
       "      <td>3</td>\n",
       "      <td>15:44:00</td>\n",
       "      <td>6/16/2016 1:14</td>\n",
       "      <td>US FDA ?????canagliflozin?dapagliflozin?????????</td>\n",
       "      <td>Previously, sodium-glucose cotransporter-2 (SG...</td>\n",
       "      <td>NaN</td>\n",
       "      <td>6</td>\n",
       "      <td>0</td>\n",
       "      <td>0</td>\n",
       "      <td>0</td>\n",
       "      <td>15:44:00</td>\n",
       "    </tr>\n",
       "    <tr>\n",
       "      <td>3</td>\n",
       "      <td>4</td>\n",
       "      <td>19:41:00</td>\n",
       "      <td>NaN</td>\n",
       "      <td>NaN</td>\n",
       "      <td>Hello. I suffer from congestive heart failure ...</td>\n",
       "      <td>NaN</td>\n",
       "      <td>7</td>\n",
       "      <td>0</td>\n",
       "      <td>1</td>\n",
       "      <td>0</td>\n",
       "      <td>19:41:00</td>\n",
       "    </tr>\n",
       "    <tr>\n",
       "      <td>4</td>\n",
       "      <td>5</td>\n",
       "      <td>15:30:45</td>\n",
       "      <td>4/5/2016 1:00</td>\n",
       "      <td>Vitamin D improves heart function, study finds</td>\n",
       "      <td>A daily dose of vitamin D3 improves heart func...</td>\n",
       "      <td>NaN</td>\n",
       "      <td>4</td>\n",
       "      <td>0</td>\n",
       "      <td>0</td>\n",
       "      <td>0</td>\n",
       "      <td>15:30:45</td>\n",
       "    </tr>\n",
       "  </tbody>\n",
       "</table>\n",
       "</div>"
      ],
      "text/plain": [
       "   Index  Time(ET)       time(GMT)  \\\n",
       "0      1   0:41:23             NaN   \n",
       "1      2   0:07:30  6/20/2016 9:37   \n",
       "2      3  15:44:00  6/16/2016 1:14   \n",
       "3      4  19:41:00             NaN   \n",
       "4      5  15:30:45   4/5/2016 1:00   \n",
       "\n",
       "                                              Title  \\\n",
       "0                                               NaN   \n",
       "1                                       My Story --   \n",
       "2  US FDA ?????canagliflozin?dapagliflozin?????????   \n",
       "3                                               NaN   \n",
       "4    Vitamin D improves heart function, study finds   \n",
       "\n",
       "                                     TRANS_CONV_TEXT Unnamed: 9  Month  \\\n",
       "0  Baby Slice, the son of the late Kimbo Slice, h...        NaN      7   \n",
       "1  <p><font face=\"sans-serif\" size=\"3\">I have had...        NaN      6   \n",
       "2  Previously, sodium-glucose cotransporter-2 (SG...        NaN      6   \n",
       "3  Hello. I suffer from congestive heart failure ...        NaN      7   \n",
       "4  A daily dose of vitamin D3 improves heart func...        NaN      4   \n",
       "\n",
       "   Source_facebook  Source_forums  Source_youtube      Time  \n",
       "0                0              0               0   0:41:23  \n",
       "1                0              1               0   0:07:30  \n",
       "2                0              0               0  15:44:00  \n",
       "3                0              1               0  19:41:00  \n",
       "4                0              0               0  15:30:45  "
      ]
     },
     "execution_count": 42,
     "metadata": {},
     "output_type": "execute_result"
    }
   ],
   "source": [
    "TestDataset['Time'] = TestDataset.apply(AM_PM, axis=1)\n",
    "TestDataset.head()"
   ]
  },
  {
   "cell_type": "code",
   "execution_count": 43,
   "metadata": {},
   "outputs": [
    {
     "data": {
      "text/html": [
       "<div>\n",
       "<style scoped>\n",
       "    .dataframe tbody tr th:only-of-type {\n",
       "        vertical-align: middle;\n",
       "    }\n",
       "\n",
       "    .dataframe tbody tr th {\n",
       "        vertical-align: top;\n",
       "    }\n",
       "\n",
       "    .dataframe thead th {\n",
       "        text-align: right;\n",
       "    }\n",
       "</style>\n",
       "<table border=\"1\" class=\"dataframe\">\n",
       "  <thead>\n",
       "    <tr style=\"text-align: right;\">\n",
       "      <th></th>\n",
       "      <th>Time(ET)</th>\n",
       "      <th>time(GMT)</th>\n",
       "      <th>Title</th>\n",
       "      <th>TRANS_CONV_TEXT</th>\n",
       "      <th>Patient_Tag</th>\n",
       "      <th>Month</th>\n",
       "      <th>Source_facebook</th>\n",
       "      <th>Source_forums</th>\n",
       "      <th>Source_youtube</th>\n",
       "      <th>Time</th>\n",
       "      <th>Hour</th>\n",
       "    </tr>\n",
       "  </thead>\n",
       "  <tbody>\n",
       "    <tr>\n",
       "      <td>0</td>\n",
       "      <td>13:58:00</td>\n",
       "      <td>6/15/2016 23:28</td>\n",
       "      <td>Epstein</td>\n",
       "      <td>I don't disagree with you in principle. I'm ju...</td>\n",
       "      <td>0</td>\n",
       "      <td>6</td>\n",
       "      <td>0</td>\n",
       "      <td>1</td>\n",
       "      <td>0</td>\n",
       "      <td>13:58:00</td>\n",
       "      <td>13</td>\n",
       "    </tr>\n",
       "    <tr>\n",
       "      <td>1</td>\n",
       "      <td>11:48:18</td>\n",
       "      <td>42498.21667</td>\n",
       "      <td>Enlarged Heart.Thread Enlarged Heart</td>\n",
       "      <td>I am always dizzy I get dizzy standing up so I...</td>\n",
       "      <td>1</td>\n",
       "      <td>5</td>\n",
       "      <td>0</td>\n",
       "      <td>1</td>\n",
       "      <td>0</td>\n",
       "      <td>11:48:18</td>\n",
       "      <td>11</td>\n",
       "    </tr>\n",
       "    <tr>\n",
       "      <td>2</td>\n",
       "      <td>15:00:38</td>\n",
       "      <td>4/15/2016 0:30</td>\n",
       "      <td>Queen Latifah Joins American Heart Association...</td>\n",
       "      <td>Axelle/Bauer-Griffin/FilmMagic(NEW YORK) -- Qu...</td>\n",
       "      <td>0</td>\n",
       "      <td>4</td>\n",
       "      <td>0</td>\n",
       "      <td>0</td>\n",
       "      <td>0</td>\n",
       "      <td>15:00:38</td>\n",
       "      <td>15</td>\n",
       "    </tr>\n",
       "    <tr>\n",
       "      <td>3</td>\n",
       "      <td>20:46:00</td>\n",
       "      <td>6/19/2016 6:16</td>\n",
       "      <td>Bulaemia</td>\n",
       "      <td>I am 17 and I have been throwing up for about ...</td>\n",
       "      <td>1</td>\n",
       "      <td>6</td>\n",
       "      <td>0</td>\n",
       "      <td>1</td>\n",
       "      <td>0</td>\n",
       "      <td>20:46:00</td>\n",
       "      <td>20</td>\n",
       "    </tr>\n",
       "    <tr>\n",
       "      <td>4</td>\n",
       "      <td>3:26:00</td>\n",
       "      <td>6/15/2016 12:56</td>\n",
       "      <td>DIY Silver interconnects and RCAs???</td>\n",
       "      <td>Quote: Originally Posted by Boyan Silyavski Wa...</td>\n",
       "      <td>0</td>\n",
       "      <td>6</td>\n",
       "      <td>0</td>\n",
       "      <td>1</td>\n",
       "      <td>0</td>\n",
       "      <td>3:26:00</td>\n",
       "      <td>3</td>\n",
       "    </tr>\n",
       "  </tbody>\n",
       "</table>\n",
       "</div>"
      ],
      "text/plain": [
       "   Time(ET)        time(GMT)  \\\n",
       "0  13:58:00  6/15/2016 23:28   \n",
       "1  11:48:18      42498.21667   \n",
       "2  15:00:38   4/15/2016 0:30   \n",
       "3  20:46:00   6/19/2016 6:16   \n",
       "4   3:26:00  6/15/2016 12:56   \n",
       "\n",
       "                                               Title  \\\n",
       "0                                            Epstein   \n",
       "1               Enlarged Heart.Thread Enlarged Heart   \n",
       "2  Queen Latifah Joins American Heart Association...   \n",
       "3                                           Bulaemia   \n",
       "4               DIY Silver interconnects and RCAs???   \n",
       "\n",
       "                                     TRANS_CONV_TEXT  Patient_Tag  Month  \\\n",
       "0  I don't disagree with you in principle. I'm ju...            0      6   \n",
       "1  I am always dizzy I get dizzy standing up so I...            1      5   \n",
       "2  Axelle/Bauer-Griffin/FilmMagic(NEW YORK) -- Qu...            0      4   \n",
       "3  I am 17 and I have been throwing up for about ...            1      6   \n",
       "4  Quote: Originally Posted by Boyan Silyavski Wa...            0      6   \n",
       "\n",
       "   Source_facebook  Source_forums  Source_youtube      Time  Hour  \n",
       "0                0              1               0  13:58:00    13  \n",
       "1                0              1               0  11:48:18    11  \n",
       "2                0              0               0  15:00:38    15  \n",
       "3                0              1               0  20:46:00    20  \n",
       "4                0              1               0   3:26:00     3  "
      ]
     },
     "execution_count": 43,
     "metadata": {},
     "output_type": "execute_result"
    }
   ],
   "source": [
    "#Convert time to hour of the day\n",
    "TrainDataset['Hour']=pd.to_datetime(TrainDataset['Time'],format='%H:%M:%S').dt.hour\n",
    "TrainDataset.head()"
   ]
  },
  {
   "cell_type": "code",
   "execution_count": 44,
   "metadata": {},
   "outputs": [
    {
     "data": {
      "text/html": [
       "<div>\n",
       "<style scoped>\n",
       "    .dataframe tbody tr th:only-of-type {\n",
       "        vertical-align: middle;\n",
       "    }\n",
       "\n",
       "    .dataframe tbody tr th {\n",
       "        vertical-align: top;\n",
       "    }\n",
       "\n",
       "    .dataframe thead th {\n",
       "        text-align: right;\n",
       "    }\n",
       "</style>\n",
       "<table border=\"1\" class=\"dataframe\">\n",
       "  <thead>\n",
       "    <tr style=\"text-align: right;\">\n",
       "      <th></th>\n",
       "      <th>Index</th>\n",
       "      <th>Time(ET)</th>\n",
       "      <th>time(GMT)</th>\n",
       "      <th>Title</th>\n",
       "      <th>TRANS_CONV_TEXT</th>\n",
       "      <th>Unnamed: 9</th>\n",
       "      <th>Month</th>\n",
       "      <th>Source_facebook</th>\n",
       "      <th>Source_forums</th>\n",
       "      <th>Source_youtube</th>\n",
       "      <th>Time</th>\n",
       "      <th>Hour</th>\n",
       "    </tr>\n",
       "  </thead>\n",
       "  <tbody>\n",
       "    <tr>\n",
       "      <td>0</td>\n",
       "      <td>1</td>\n",
       "      <td>0:41:23</td>\n",
       "      <td>NaN</td>\n",
       "      <td>NaN</td>\n",
       "      <td>Baby Slice, the son of the late Kimbo Slice, h...</td>\n",
       "      <td>NaN</td>\n",
       "      <td>7</td>\n",
       "      <td>0</td>\n",
       "      <td>0</td>\n",
       "      <td>0</td>\n",
       "      <td>0:41:23</td>\n",
       "      <td>0</td>\n",
       "    </tr>\n",
       "    <tr>\n",
       "      <td>1</td>\n",
       "      <td>2</td>\n",
       "      <td>0:07:30</td>\n",
       "      <td>6/20/2016 9:37</td>\n",
       "      <td>My Story --</td>\n",
       "      <td>&lt;p&gt;&lt;font face=\"sans-serif\" size=\"3\"&gt;I have had...</td>\n",
       "      <td>NaN</td>\n",
       "      <td>6</td>\n",
       "      <td>0</td>\n",
       "      <td>1</td>\n",
       "      <td>0</td>\n",
       "      <td>0:07:30</td>\n",
       "      <td>0</td>\n",
       "    </tr>\n",
       "    <tr>\n",
       "      <td>2</td>\n",
       "      <td>3</td>\n",
       "      <td>15:44:00</td>\n",
       "      <td>6/16/2016 1:14</td>\n",
       "      <td>US FDA ?????canagliflozin?dapagliflozin?????????</td>\n",
       "      <td>Previously, sodium-glucose cotransporter-2 (SG...</td>\n",
       "      <td>NaN</td>\n",
       "      <td>6</td>\n",
       "      <td>0</td>\n",
       "      <td>0</td>\n",
       "      <td>0</td>\n",
       "      <td>15:44:00</td>\n",
       "      <td>15</td>\n",
       "    </tr>\n",
       "    <tr>\n",
       "      <td>3</td>\n",
       "      <td>4</td>\n",
       "      <td>19:41:00</td>\n",
       "      <td>NaN</td>\n",
       "      <td>NaN</td>\n",
       "      <td>Hello. I suffer from congestive heart failure ...</td>\n",
       "      <td>NaN</td>\n",
       "      <td>7</td>\n",
       "      <td>0</td>\n",
       "      <td>1</td>\n",
       "      <td>0</td>\n",
       "      <td>19:41:00</td>\n",
       "      <td>19</td>\n",
       "    </tr>\n",
       "    <tr>\n",
       "      <td>4</td>\n",
       "      <td>5</td>\n",
       "      <td>15:30:45</td>\n",
       "      <td>4/5/2016 1:00</td>\n",
       "      <td>Vitamin D improves heart function, study finds</td>\n",
       "      <td>A daily dose of vitamin D3 improves heart func...</td>\n",
       "      <td>NaN</td>\n",
       "      <td>4</td>\n",
       "      <td>0</td>\n",
       "      <td>0</td>\n",
       "      <td>0</td>\n",
       "      <td>15:30:45</td>\n",
       "      <td>15</td>\n",
       "    </tr>\n",
       "  </tbody>\n",
       "</table>\n",
       "</div>"
      ],
      "text/plain": [
       "   Index  Time(ET)       time(GMT)  \\\n",
       "0      1   0:41:23             NaN   \n",
       "1      2   0:07:30  6/20/2016 9:37   \n",
       "2      3  15:44:00  6/16/2016 1:14   \n",
       "3      4  19:41:00             NaN   \n",
       "4      5  15:30:45   4/5/2016 1:00   \n",
       "\n",
       "                                              Title  \\\n",
       "0                                               NaN   \n",
       "1                                       My Story --   \n",
       "2  US FDA ?????canagliflozin?dapagliflozin?????????   \n",
       "3                                               NaN   \n",
       "4    Vitamin D improves heart function, study finds   \n",
       "\n",
       "                                     TRANS_CONV_TEXT Unnamed: 9  Month  \\\n",
       "0  Baby Slice, the son of the late Kimbo Slice, h...        NaN      7   \n",
       "1  <p><font face=\"sans-serif\" size=\"3\">I have had...        NaN      6   \n",
       "2  Previously, sodium-glucose cotransporter-2 (SG...        NaN      6   \n",
       "3  Hello. I suffer from congestive heart failure ...        NaN      7   \n",
       "4  A daily dose of vitamin D3 improves heart func...        NaN      4   \n",
       "\n",
       "   Source_facebook  Source_forums  Source_youtube      Time  Hour  \n",
       "0                0              0               0   0:41:23     0  \n",
       "1                0              1               0   0:07:30     0  \n",
       "2                0              0               0  15:44:00    15  \n",
       "3                0              1               0  19:41:00    19  \n",
       "4                0              0               0  15:30:45    15  "
      ]
     },
     "execution_count": 44,
     "metadata": {},
     "output_type": "execute_result"
    }
   ],
   "source": [
    "TestDataset['Hour']=pd.to_datetime(TestDataset['Time'],format='%H:%M:%S').dt.hour\n",
    "TestDataset.head()"
   ]
  },
  {
   "cell_type": "code",
   "execution_count": 45,
   "metadata": {},
   "outputs": [],
   "source": [
    "#Drop Time(ET), Time as Hour is extracted from it\n",
    "#Drop time(GMT) as it contains the same data in Time(ET) and Date(ET) in different format\n",
    "TrainDataset.drop(['Time', 'Time(ET)','time(GMT)'],axis=1,inplace=True)\n",
    "TestDataset.drop(['Time', 'Time(ET)','time(GMT)'],axis=1,inplace=True)"
   ]
  },
  {
   "cell_type": "code",
   "execution_count": 46,
   "metadata": {},
   "outputs": [],
   "source": [
    "#Function to allot each time to categories of the day i.e Morning, Afternoon, Evening, Night, Late Night\n",
    "import datetime as dt\n",
    "def allotTimeslot(time):\n",
    "    currentTime = time \n",
    "    MorningStartTime = 5\n",
    "    AfternoonStartTime = 12\n",
    "    EveningStartTime = 17\n",
    "    NightStartTime = 22\n",
    "    LateNightStartTime = 1    \n",
    "    if((currentTime >= MorningStartTime) & (currentTime < AfternoonStartTime)):\n",
    "        return \"Morning\"\n",
    "    elif((currentTime >= AfternoonStartTime) & (currentTime < EveningStartTime)):\n",
    "        return \"Afternoon\"\n",
    "    elif((currentTime >= EveningStartTime) & (currentTime < NightStartTime)):\n",
    "        return \"Evening\"\n",
    "    elif((currentTime >= NightStartTime) | (currentTime < LateNightStartTime)):\n",
    "        return \"Night\"    \n",
    "    elif((currentTime >= LateNightStartTime) | (currentTime < MorningStartTime)):\n",
    "        return \"Late Night\""
   ]
  },
  {
   "cell_type": "code",
   "execution_count": 47,
   "metadata": {},
   "outputs": [
    {
     "data": {
      "text/html": [
       "<div>\n",
       "<style scoped>\n",
       "    .dataframe tbody tr th:only-of-type {\n",
       "        vertical-align: middle;\n",
       "    }\n",
       "\n",
       "    .dataframe tbody tr th {\n",
       "        vertical-align: top;\n",
       "    }\n",
       "\n",
       "    .dataframe thead th {\n",
       "        text-align: right;\n",
       "    }\n",
       "</style>\n",
       "<table border=\"1\" class=\"dataframe\">\n",
       "  <thead>\n",
       "    <tr style=\"text-align: right;\">\n",
       "      <th></th>\n",
       "      <th>Title</th>\n",
       "      <th>TRANS_CONV_TEXT</th>\n",
       "      <th>Patient_Tag</th>\n",
       "      <th>Month</th>\n",
       "      <th>Source_facebook</th>\n",
       "      <th>Source_forums</th>\n",
       "      <th>Source_youtube</th>\n",
       "      <th>Hour</th>\n",
       "      <th>TimeSlot</th>\n",
       "    </tr>\n",
       "  </thead>\n",
       "  <tbody>\n",
       "    <tr>\n",
       "      <td>0</td>\n",
       "      <td>Epstein</td>\n",
       "      <td>I don't disagree with you in principle. I'm ju...</td>\n",
       "      <td>0</td>\n",
       "      <td>6</td>\n",
       "      <td>0</td>\n",
       "      <td>1</td>\n",
       "      <td>0</td>\n",
       "      <td>13</td>\n",
       "      <td>Afternoon</td>\n",
       "    </tr>\n",
       "    <tr>\n",
       "      <td>1</td>\n",
       "      <td>Enlarged Heart.Thread Enlarged Heart</td>\n",
       "      <td>I am always dizzy I get dizzy standing up so I...</td>\n",
       "      <td>1</td>\n",
       "      <td>5</td>\n",
       "      <td>0</td>\n",
       "      <td>1</td>\n",
       "      <td>0</td>\n",
       "      <td>11</td>\n",
       "      <td>Morning</td>\n",
       "    </tr>\n",
       "    <tr>\n",
       "      <td>2</td>\n",
       "      <td>Queen Latifah Joins American Heart Association...</td>\n",
       "      <td>Axelle/Bauer-Griffin/FilmMagic(NEW YORK) -- Qu...</td>\n",
       "      <td>0</td>\n",
       "      <td>4</td>\n",
       "      <td>0</td>\n",
       "      <td>0</td>\n",
       "      <td>0</td>\n",
       "      <td>15</td>\n",
       "      <td>Afternoon</td>\n",
       "    </tr>\n",
       "    <tr>\n",
       "      <td>3</td>\n",
       "      <td>Bulaemia</td>\n",
       "      <td>I am 17 and I have been throwing up for about ...</td>\n",
       "      <td>1</td>\n",
       "      <td>6</td>\n",
       "      <td>0</td>\n",
       "      <td>1</td>\n",
       "      <td>0</td>\n",
       "      <td>20</td>\n",
       "      <td>Evening</td>\n",
       "    </tr>\n",
       "    <tr>\n",
       "      <td>4</td>\n",
       "      <td>DIY Silver interconnects and RCAs???</td>\n",
       "      <td>Quote: Originally Posted by Boyan Silyavski Wa...</td>\n",
       "      <td>0</td>\n",
       "      <td>6</td>\n",
       "      <td>0</td>\n",
       "      <td>1</td>\n",
       "      <td>0</td>\n",
       "      <td>3</td>\n",
       "      <td>Late Night</td>\n",
       "    </tr>\n",
       "  </tbody>\n",
       "</table>\n",
       "</div>"
      ],
      "text/plain": [
       "                                               Title  \\\n",
       "0                                            Epstein   \n",
       "1               Enlarged Heart.Thread Enlarged Heart   \n",
       "2  Queen Latifah Joins American Heart Association...   \n",
       "3                                           Bulaemia   \n",
       "4               DIY Silver interconnects and RCAs???   \n",
       "\n",
       "                                     TRANS_CONV_TEXT  Patient_Tag  Month  \\\n",
       "0  I don't disagree with you in principle. I'm ju...            0      6   \n",
       "1  I am always dizzy I get dizzy standing up so I...            1      5   \n",
       "2  Axelle/Bauer-Griffin/FilmMagic(NEW YORK) -- Qu...            0      4   \n",
       "3  I am 17 and I have been throwing up for about ...            1      6   \n",
       "4  Quote: Originally Posted by Boyan Silyavski Wa...            0      6   \n",
       "\n",
       "   Source_facebook  Source_forums  Source_youtube  Hour    TimeSlot  \n",
       "0                0              1               0    13   Afternoon  \n",
       "1                0              1               0    11     Morning  \n",
       "2                0              0               0    15   Afternoon  \n",
       "3                0              1               0    20     Evening  \n",
       "4                0              1               0     3  Late Night  "
      ]
     },
     "execution_count": 47,
     "metadata": {},
     "output_type": "execute_result"
    }
   ],
   "source": [
    "#Adding another column to add timeslot of the day\n",
    "TrainDataset['TimeSlot'] = TrainDataset['Hour'].apply(allotTimeslot)\n",
    "TrainDataset.head()"
   ]
  },
  {
   "cell_type": "code",
   "execution_count": 48,
   "metadata": {},
   "outputs": [
    {
     "data": {
      "text/html": [
       "<div>\n",
       "<style scoped>\n",
       "    .dataframe tbody tr th:only-of-type {\n",
       "        vertical-align: middle;\n",
       "    }\n",
       "\n",
       "    .dataframe tbody tr th {\n",
       "        vertical-align: top;\n",
       "    }\n",
       "\n",
       "    .dataframe thead th {\n",
       "        text-align: right;\n",
       "    }\n",
       "</style>\n",
       "<table border=\"1\" class=\"dataframe\">\n",
       "  <thead>\n",
       "    <tr style=\"text-align: right;\">\n",
       "      <th></th>\n",
       "      <th>Index</th>\n",
       "      <th>Title</th>\n",
       "      <th>TRANS_CONV_TEXT</th>\n",
       "      <th>Unnamed: 9</th>\n",
       "      <th>Month</th>\n",
       "      <th>Source_facebook</th>\n",
       "      <th>Source_forums</th>\n",
       "      <th>Source_youtube</th>\n",
       "      <th>Hour</th>\n",
       "      <th>TimeSlot</th>\n",
       "    </tr>\n",
       "  </thead>\n",
       "  <tbody>\n",
       "    <tr>\n",
       "      <td>0</td>\n",
       "      <td>1</td>\n",
       "      <td>NaN</td>\n",
       "      <td>Baby Slice, the son of the late Kimbo Slice, h...</td>\n",
       "      <td>NaN</td>\n",
       "      <td>7</td>\n",
       "      <td>0</td>\n",
       "      <td>0</td>\n",
       "      <td>0</td>\n",
       "      <td>0</td>\n",
       "      <td>Night</td>\n",
       "    </tr>\n",
       "    <tr>\n",
       "      <td>1</td>\n",
       "      <td>2</td>\n",
       "      <td>My Story --</td>\n",
       "      <td>&lt;p&gt;&lt;font face=\"sans-serif\" size=\"3\"&gt;I have had...</td>\n",
       "      <td>NaN</td>\n",
       "      <td>6</td>\n",
       "      <td>0</td>\n",
       "      <td>1</td>\n",
       "      <td>0</td>\n",
       "      <td>0</td>\n",
       "      <td>Night</td>\n",
       "    </tr>\n",
       "    <tr>\n",
       "      <td>2</td>\n",
       "      <td>3</td>\n",
       "      <td>US FDA ?????canagliflozin?dapagliflozin?????????</td>\n",
       "      <td>Previously, sodium-glucose cotransporter-2 (SG...</td>\n",
       "      <td>NaN</td>\n",
       "      <td>6</td>\n",
       "      <td>0</td>\n",
       "      <td>0</td>\n",
       "      <td>0</td>\n",
       "      <td>15</td>\n",
       "      <td>Afternoon</td>\n",
       "    </tr>\n",
       "    <tr>\n",
       "      <td>3</td>\n",
       "      <td>4</td>\n",
       "      <td>NaN</td>\n",
       "      <td>Hello. I suffer from congestive heart failure ...</td>\n",
       "      <td>NaN</td>\n",
       "      <td>7</td>\n",
       "      <td>0</td>\n",
       "      <td>1</td>\n",
       "      <td>0</td>\n",
       "      <td>19</td>\n",
       "      <td>Evening</td>\n",
       "    </tr>\n",
       "    <tr>\n",
       "      <td>4</td>\n",
       "      <td>5</td>\n",
       "      <td>Vitamin D improves heart function, study finds</td>\n",
       "      <td>A daily dose of vitamin D3 improves heart func...</td>\n",
       "      <td>NaN</td>\n",
       "      <td>4</td>\n",
       "      <td>0</td>\n",
       "      <td>0</td>\n",
       "      <td>0</td>\n",
       "      <td>15</td>\n",
       "      <td>Afternoon</td>\n",
       "    </tr>\n",
       "  </tbody>\n",
       "</table>\n",
       "</div>"
      ],
      "text/plain": [
       "   Index                                             Title  \\\n",
       "0      1                                               NaN   \n",
       "1      2                                       My Story --   \n",
       "2      3  US FDA ?????canagliflozin?dapagliflozin?????????   \n",
       "3      4                                               NaN   \n",
       "4      5    Vitamin D improves heart function, study finds   \n",
       "\n",
       "                                     TRANS_CONV_TEXT Unnamed: 9  Month  \\\n",
       "0  Baby Slice, the son of the late Kimbo Slice, h...        NaN      7   \n",
       "1  <p><font face=\"sans-serif\" size=\"3\">I have had...        NaN      6   \n",
       "2  Previously, sodium-glucose cotransporter-2 (SG...        NaN      6   \n",
       "3  Hello. I suffer from congestive heart failure ...        NaN      7   \n",
       "4  A daily dose of vitamin D3 improves heart func...        NaN      4   \n",
       "\n",
       "   Source_facebook  Source_forums  Source_youtube  Hour   TimeSlot  \n",
       "0                0              0               0     0      Night  \n",
       "1                0              1               0     0      Night  \n",
       "2                0              0               0    15  Afternoon  \n",
       "3                0              1               0    19    Evening  \n",
       "4                0              0               0    15  Afternoon  "
      ]
     },
     "execution_count": 48,
     "metadata": {},
     "output_type": "execute_result"
    }
   ],
   "source": [
    "TestDataset['TimeSlot'] = TestDataset['Hour'].apply(allotTimeslot)\n",
    "TestDataset.head()"
   ]
  },
  {
   "cell_type": "code",
   "execution_count": 49,
   "metadata": {},
   "outputs": [
    {
     "data": {
      "image/png": "[encoded data removed]",
      "text/plain": [
       "<Figure size 432x288 with 1 Axes>"
      ]
     },
     "metadata": {
      "needs_background": "light"
     },
     "output_type": "display_data"
    }
   ],
   "source": [
    "#Visualize TimeSlot\n",
    "ax = sns.countplot(x=\"TimeSlot\", data=TrainDataset)\n",
    "\n",
    "for p in ax.patches:\n",
    "        ax.annotate(format(p.get_height()), (p.get_x()+0.1, p.get_height()+5))"
   ]
  },
  {
   "cell_type": "markdown",
   "metadata": {},
   "source": [
    "### The above plot shows the count of TimeSlot column . Morning slot seem's to have the most amount of data."
   ]
  },
  {
   "cell_type": "code",
   "execution_count": 50,
   "metadata": {
    "scrolled": true
   },
   "outputs": [
    {
     "data": {
      "image/png": "[encoded data removed]",
      "text/plain": [
       "<Figure size 432x288 with 1 Axes>"
      ]
     },
     "metadata": {
      "needs_background": "light"
     },
     "output_type": "display_data"
    }
   ],
   "source": [
    "ax = sns.countplot(x=\"TimeSlot\", hue=\"Patient_Tag\", data=TrainDataset)\n",
    "\n",
    "for p in ax.patches:\n",
    "        ax.annotate(format(p.get_height()), (p.get_x()+0.1, p.get_height()+5))"
   ]
  },
  {
   "cell_type": "markdown",
   "metadata": {},
   "source": [
    "### The above plot shows the count of TimeSlot column corresponding to each tag. This shows that there is relation in TimeSlot and tag. Moreover Morning slot has the most information."
   ]
  },
  {
   "cell_type": "code",
   "execution_count": 51,
   "metadata": {},
   "outputs": [
    {
     "data": {
      "image/png": "[encoded data removed]",
      "text/plain": [
       "<Figure size 432x288 with 1 Axes>"
      ]
     },
     "metadata": {
      "needs_background": "light"
     },
     "output_type": "display_data"
    }
   ],
   "source": [
    "#Visualize Hours\n",
    "ax = sns.countplot(x=\"Hour\", hue=\"Patient_Tag\", data=TrainDataset)\n",
    "\n",
    "for p in ax.patches:\n",
    "        ax.annotate(format(p.get_height()), (p.get_x()+0.1, p.get_height()+5))"
   ]
  },
  {
   "cell_type": "markdown",
   "metadata": {},
   "source": [
    "### The above plot shows the count of Hour column corresponding to each tag.  11th hour has most information. Moreover on comparing TimeSlot vs Hour, it better to use TimeSlot as it has less unique values and is showing same information with respect to Patient_Tag."
   ]
  },
  {
   "cell_type": "code",
   "execution_count": 52,
   "metadata": {},
   "outputs": [
    {
     "data": {
      "text/html": [
       "<div>\n",
       "<style scoped>\n",
       "    .dataframe tbody tr th:only-of-type {\n",
       "        vertical-align: middle;\n",
       "    }\n",
       "\n",
       "    .dataframe tbody tr th {\n",
       "        vertical-align: top;\n",
       "    }\n",
       "\n",
       "    .dataframe thead th {\n",
       "        text-align: right;\n",
       "    }\n",
       "</style>\n",
       "<table border=\"1\" class=\"dataframe\">\n",
       "  <thead>\n",
       "    <tr style=\"text-align: right;\">\n",
       "      <th></th>\n",
       "      <th>TimeSlot_Afternoon</th>\n",
       "      <th>TimeSlot_Evening</th>\n",
       "      <th>TimeSlot_Late Night</th>\n",
       "      <th>TimeSlot_Morning</th>\n",
       "      <th>TimeSlot_Night</th>\n",
       "    </tr>\n",
       "  </thead>\n",
       "  <tbody>\n",
       "    <tr>\n",
       "      <td>0</td>\n",
       "      <td>1</td>\n",
       "      <td>0</td>\n",
       "      <td>0</td>\n",
       "      <td>0</td>\n",
       "      <td>0</td>\n",
       "    </tr>\n",
       "    <tr>\n",
       "      <td>1</td>\n",
       "      <td>0</td>\n",
       "      <td>0</td>\n",
       "      <td>0</td>\n",
       "      <td>1</td>\n",
       "      <td>0</td>\n",
       "    </tr>\n",
       "    <tr>\n",
       "      <td>2</td>\n",
       "      <td>1</td>\n",
       "      <td>0</td>\n",
       "      <td>0</td>\n",
       "      <td>0</td>\n",
       "      <td>0</td>\n",
       "    </tr>\n",
       "    <tr>\n",
       "      <td>3</td>\n",
       "      <td>0</td>\n",
       "      <td>1</td>\n",
       "      <td>0</td>\n",
       "      <td>0</td>\n",
       "      <td>0</td>\n",
       "    </tr>\n",
       "    <tr>\n",
       "      <td>4</td>\n",
       "      <td>0</td>\n",
       "      <td>0</td>\n",
       "      <td>1</td>\n",
       "      <td>0</td>\n",
       "      <td>0</td>\n",
       "    </tr>\n",
       "  </tbody>\n",
       "</table>\n",
       "</div>"
      ],
      "text/plain": [
       "   TimeSlot_Afternoon  TimeSlot_Evening  TimeSlot_Late Night  \\\n",
       "0                   1                 0                    0   \n",
       "1                   0                 0                    0   \n",
       "2                   1                 0                    0   \n",
       "3                   0                 1                    0   \n",
       "4                   0                 0                    1   \n",
       "\n",
       "   TimeSlot_Morning  TimeSlot_Night  \n",
       "0                 0               0  \n",
       "1                 1               0  \n",
       "2                 0               0  \n",
       "3                 0               0  \n",
       "4                 0               0  "
      ]
     },
     "execution_count": 52,
     "metadata": {},
     "output_type": "execute_result"
    }
   ],
   "source": [
    "# Convert TimeSlot to a numerical variable\n",
    "DummiesTimeSlotTrain = pd.get_dummies(TrainDataset['TimeSlot'], prefix = 'TimeSlot')\n",
    "DummiesTimeSlotTrain.head()"
   ]
  },
  {
   "cell_type": "code",
   "execution_count": 53,
   "metadata": {},
   "outputs": [
    {
     "data": {
      "text/html": [
       "<div>\n",
       "<style scoped>\n",
       "    .dataframe tbody tr th:only-of-type {\n",
       "        vertical-align: middle;\n",
       "    }\n",
       "\n",
       "    .dataframe tbody tr th {\n",
       "        vertical-align: top;\n",
       "    }\n",
       "\n",
       "    .dataframe thead th {\n",
       "        text-align: right;\n",
       "    }\n",
       "</style>\n",
       "<table border=\"1\" class=\"dataframe\">\n",
       "  <thead>\n",
       "    <tr style=\"text-align: right;\">\n",
       "      <th></th>\n",
       "      <th>TimeSlot_Afternoon</th>\n",
       "      <th>TimeSlot_Evening</th>\n",
       "      <th>TimeSlot_Late Night</th>\n",
       "      <th>TimeSlot_Morning</th>\n",
       "      <th>TimeSlot_Night</th>\n",
       "    </tr>\n",
       "  </thead>\n",
       "  <tbody>\n",
       "    <tr>\n",
       "      <td>0</td>\n",
       "      <td>0</td>\n",
       "      <td>0</td>\n",
       "      <td>0</td>\n",
       "      <td>0</td>\n",
       "      <td>1</td>\n",
       "    </tr>\n",
       "    <tr>\n",
       "      <td>1</td>\n",
       "      <td>0</td>\n",
       "      <td>0</td>\n",
       "      <td>0</td>\n",
       "      <td>0</td>\n",
       "      <td>1</td>\n",
       "    </tr>\n",
       "    <tr>\n",
       "      <td>2</td>\n",
       "      <td>1</td>\n",
       "      <td>0</td>\n",
       "      <td>0</td>\n",
       "      <td>0</td>\n",
       "      <td>0</td>\n",
       "    </tr>\n",
       "    <tr>\n",
       "      <td>3</td>\n",
       "      <td>0</td>\n",
       "      <td>1</td>\n",
       "      <td>0</td>\n",
       "      <td>0</td>\n",
       "      <td>0</td>\n",
       "    </tr>\n",
       "    <tr>\n",
       "      <td>4</td>\n",
       "      <td>1</td>\n",
       "      <td>0</td>\n",
       "      <td>0</td>\n",
       "      <td>0</td>\n",
       "      <td>0</td>\n",
       "    </tr>\n",
       "  </tbody>\n",
       "</table>\n",
       "</div>"
      ],
      "text/plain": [
       "   TimeSlot_Afternoon  TimeSlot_Evening  TimeSlot_Late Night  \\\n",
       "0                   0                 0                    0   \n",
       "1                   0                 0                    0   \n",
       "2                   1                 0                    0   \n",
       "3                   0                 1                    0   \n",
       "4                   1                 0                    0   \n",
       "\n",
       "   TimeSlot_Morning  TimeSlot_Night  \n",
       "0                 0               1  \n",
       "1                 0               1  \n",
       "2                 0               0  \n",
       "3                 0               0  \n",
       "4                 0               0  "
      ]
     },
     "execution_count": 53,
     "metadata": {},
     "output_type": "execute_result"
    }
   ],
   "source": [
    "DummiesTimeSlotTest = pd.get_dummies(TestDataset['TimeSlot'], prefix = 'TimeSlot')\n",
    "DummiesTimeSlotTest.head()"
   ]
  },
  {
   "cell_type": "code",
   "execution_count": 54,
   "metadata": {},
   "outputs": [],
   "source": [
    "#Avoid Dummy variable trap\n",
    "DummiesTimeSlotTrain = DummiesTimeSlotTrain.drop('TimeSlot_Afternoon', axis=1)\n",
    "DummiesTimeSlotTest = DummiesTimeSlotTest.drop('TimeSlot_Afternoon', axis=1)"
   ]
  },
  {
   "cell_type": "code",
   "execution_count": 55,
   "metadata": {},
   "outputs": [],
   "source": [
    "#Add the numerical data to original dataset\n",
    "TrainDataset = pd.concat([TrainDataset, DummiesTimeSlotTrain], axis=1)\n",
    "TestDataset = pd.concat([TestDataset, DummiesTimeSlotTest], axis=1)"
   ]
  },
  {
   "cell_type": "code",
   "execution_count": 56,
   "metadata": {},
   "outputs": [],
   "source": [
    "#Drop TimeSlot, Hour as data is extracted from it\n",
    "TrainDataset.drop(['TimeSlot', 'Hour'],axis=1,inplace=True)\n",
    "TestDataset.drop(['TimeSlot', 'Hour'],axis=1,inplace=True)"
   ]
  },
  {
   "cell_type": "code",
   "execution_count": 57,
   "metadata": {},
   "outputs": [
    {
     "name": "stdout",
     "output_type": "stream",
     "text": [
      "<class 'pandas.core.frame.DataFrame'>\n",
      "Int64Index: 1156 entries, 0 to 1156\n",
      "Data columns (total 11 columns):\n",
      "Title                  940 non-null object\n",
      "TRANS_CONV_TEXT        1156 non-null object\n",
      "Patient_Tag            1156 non-null int64\n",
      "Month                  1156 non-null int64\n",
      "Source_facebook        1156 non-null uint8\n",
      "Source_forums          1156 non-null uint8\n",
      "Source_youtube         1156 non-null uint8\n",
      "TimeSlot_Evening       1156 non-null uint8\n",
      "TimeSlot_Late Night    1156 non-null uint8\n",
      "TimeSlot_Morning       1156 non-null uint8\n",
      "TimeSlot_Night         1156 non-null uint8\n",
      "dtypes: int64(2), object(2), uint8(7)\n",
      "memory usage: 93.1+ KB\n"
     ]
    }
   ],
   "source": [
    "TrainDataset.info()"
   ]
  },
  {
   "cell_type": "code",
   "execution_count": 58,
   "metadata": {},
   "outputs": [
    {
     "name": "stdout",
     "output_type": "stream",
     "text": [
      "<class 'pandas.core.frame.DataFrame'>\n",
      "RangeIndex: 571 entries, 0 to 570\n",
      "Data columns (total 12 columns):\n",
      "Index                  571 non-null int64\n",
      "Title                  454 non-null object\n",
      "TRANS_CONV_TEXT        571 non-null object\n",
      "Unnamed: 9             1 non-null object\n",
      "Month                  571 non-null int64\n",
      "Source_facebook        571 non-null uint8\n",
      "Source_forums          571 non-null uint8\n",
      "Source_youtube         571 non-null uint8\n",
      "TimeSlot_Evening       571 non-null uint8\n",
      "TimeSlot_Late Night    571 non-null uint8\n",
      "TimeSlot_Morning       571 non-null uint8\n",
      "TimeSlot_Night         571 non-null uint8\n",
      "dtypes: int64(2), object(3), uint8(7)\n",
      "memory usage: 26.3+ KB\n"
     ]
    }
   ],
   "source": [
    "TestDataset.info()"
   ]
  },
  {
   "cell_type": "code",
   "execution_count": 59,
   "metadata": {},
   "outputs": [
    {
     "data": {
      "text/plain": [
       "count     1156.000000\n",
       "mean      1851.491349\n",
       "std       2324.415684\n",
       "min          2.000000\n",
       "25%        379.750000\n",
       "50%        964.000000\n",
       "75%       2441.250000\n",
       "max      16000.000000\n",
       "Name: TRANS_CONV_TEXT, dtype: float64"
      ]
     },
     "execution_count": 59,
     "metadata": {},
     "output_type": "execute_result"
    }
   ],
   "source": [
    "#Visulize TRANS_CONV_TEXT\n",
    "TrainDataset.TRANS_CONV_TEXT.str.len().describe()"
   ]
  },
  {
   "cell_type": "code",
   "execution_count": 60,
   "metadata": {},
   "outputs": [],
   "source": [
    "TrainDataset['Title'] = TrainDataset['Title'].fillna(\"\")\n",
    "TestDataset['Title'] = TestDataset['Title'].fillna(\"\")"
   ]
  },
  {
   "cell_type": "code",
   "execution_count": 61,
   "metadata": {},
   "outputs": [],
   "source": [
    "#Create a column Merged that contains data of Title and TRANS_CONV_TEXT\n",
    "TrainDataset['Merged'] = TrainDataset['Title'].str.cat(TrainDataset[['TRANS_CONV_TEXT']], sep=\".\")\n",
    "TestDataset['Merged'] = TestDataset['Title'].str.cat(TestDataset[['TRANS_CONV_TEXT']], sep=\".\")"
   ]
  },
  {
   "cell_type": "code",
   "execution_count": 62,
   "metadata": {},
   "outputs": [
    {
     "name": "stdout",
     "output_type": "stream",
     "text": [
      "<class 'pandas.core.frame.DataFrame'>\n",
      "Int64Index: 1156 entries, 0 to 1156\n",
      "Data columns (total 12 columns):\n",
      "Title                  1156 non-null object\n",
      "TRANS_CONV_TEXT        1156 non-null object\n",
      "Patient_Tag            1156 non-null int64\n",
      "Month                  1156 non-null int64\n",
      "Source_facebook        1156 non-null uint8\n",
      "Source_forums          1156 non-null uint8\n",
      "Source_youtube         1156 non-null uint8\n",
      "TimeSlot_Evening       1156 non-null uint8\n",
      "TimeSlot_Late Night    1156 non-null uint8\n",
      "TimeSlot_Morning       1156 non-null uint8\n",
      "TimeSlot_Night         1156 non-null uint8\n",
      "Merged                 1156 non-null object\n",
      "dtypes: int64(2), object(3), uint8(7)\n",
      "memory usage: 102.1+ KB\n"
     ]
    }
   ],
   "source": [
    "TrainDataset.info()"
   ]
  },
  {
   "cell_type": "code",
   "execution_count": 63,
   "metadata": {},
   "outputs": [
    {
     "name": "stdout",
     "output_type": "stream",
     "text": [
      "<class 'pandas.core.frame.DataFrame'>\n",
      "RangeIndex: 571 entries, 0 to 570\n",
      "Data columns (total 13 columns):\n",
      "Index                  571 non-null int64\n",
      "Title                  571 non-null object\n",
      "TRANS_CONV_TEXT        571 non-null object\n",
      "Unnamed: 9             1 non-null object\n",
      "Month                  571 non-null int64\n",
      "Source_facebook        571 non-null uint8\n",
      "Source_forums          571 non-null uint8\n",
      "Source_youtube         571 non-null uint8\n",
      "TimeSlot_Evening       571 non-null uint8\n",
      "TimeSlot_Late Night    571 non-null uint8\n",
      "TimeSlot_Morning       571 non-null uint8\n",
      "TimeSlot_Night         571 non-null uint8\n",
      "Merged                 571 non-null object\n",
      "dtypes: int64(2), object(4), uint8(7)\n",
      "memory usage: 30.8+ KB\n"
     ]
    }
   ],
   "source": [
    "TestDataset.info()"
   ]
  },
  {
   "cell_type": "markdown",
   "metadata": {},
   "source": [
    "## Model Building and Evaluation"
   ]
  },
  {
   "cell_type": "code",
   "execution_count": 64,
   "metadata": {},
   "outputs": [],
   "source": [
    "import re\n",
    "import nltk\n",
    "from nltk.corpus import stopwords\n",
    "from textblob import Word\n",
    "from nltk.stem import PorterStemmer\n",
    "stop = stopwords.words(\"english\")\n",
    "PS = PorterStemmer()"
   ]
  },
  {
   "cell_type": "code",
   "execution_count": 65,
   "metadata": {},
   "outputs": [],
   "source": [
    "#Preprocessing of TrainDataset['Merged']\n",
    "#Lower case\n",
    "TrainDataset.loc[:,'Merged'] = TrainDataset['Merged'].apply(lambda x: str.lower(x))\n",
    "#Remove punctuation\n",
    "import re\n",
    "TrainDataset.loc[:,'Merged'] = TrainDataset['Merged'].apply(lambda x : \" \".join(re.findall('[\\w]+',x)))\n",
    "#Removing stopwords\n",
    "TrainDataset.loc[:,'Merged'] = TrainDataset['Merged'].apply(lambda x: \" \".join(x for x in x.split() if x not in stop))\n",
    "#Lammentization\n",
    "TrainDataset.loc[:,'Merged'] = TrainDataset['Merged'].apply(lambda x: \" \".join([Word(myword).lemmatize() for myword in x.split()]))\n",
    "#Stemming\n",
    "TrainDataset.loc[:,'Merged'] = TrainDataset['Merged'].apply(lambda words: \" \".join([PS.stem(word) for word in words.split()]))"
   ]
  },
  {
   "cell_type": "code",
   "execution_count": 66,
   "metadata": {},
   "outputs": [],
   "source": [
    "#Preprocessing of TestDataset['Merged']\n",
    "#Lower case\n",
    "TestDataset.loc[:,'Merged'] = TestDataset['Merged'].apply(lambda x: str.lower(x))\n",
    "#Remove punctuation\n",
    "TestDataset.loc[:,'Merged'] = TestDataset['Merged'].apply(lambda x : \" \".join(re.findall('[\\w]+',x)))\n",
    "#Removing stopwords\n",
    "TestDataset.loc[:,'Merged'] = TestDataset['Merged'].apply(lambda x: \" \".join(x for x in x.split() if x not in stop))\n",
    "#Lammentization\n",
    "TestDataset.loc[:,'Merged'] = TestDataset['Merged'].apply(lambda x: \" \".join([Word(myword).lemmatize() for myword in x.split()]))\n",
    "#Stemming\n",
    "TestDataset.loc[:,'Merged'] = TestDataset['Merged'].apply(lambda words: \" \".join([PS.stem(word) for word in words.split()]))"
   ]
  },
  {
   "cell_type": "code",
   "execution_count": 67,
   "metadata": {},
   "outputs": [
    {
     "name": "stdout",
     "output_type": "stream",
     "text": [
      "heart        3578\n",
      "failur       1661\n",
      "patient      1261\n",
      "diseas       1026\n",
      "blood        1023\n",
      "studi         869\n",
      "year          830\n",
      "medic         798\n",
      "use           781\n",
      "also          776\n",
      "health        766\n",
      "time          753\n",
      "caus          725\n",
      "one           719\n",
      "may           714\n",
      "risk          708\n",
      "drug          669\n",
      "get           634\n",
      "peopl         630\n",
      "like          629\n",
      "2             609\n",
      "help          595\n",
      "pressur       590\n",
      "http          568\n",
      "said          562\n",
      "treatment     556\n",
      "research      551\n",
      "1             544\n",
      "includ        543\n",
      "new           517\n",
      "day           502\n",
      "take          498\n",
      "first         495\n",
      "high          489\n",
      "2016          489\n",
      "bodi          482\n",
      "need          482\n",
      "increas       475\n",
      "go            472\n",
      "life          472\n",
      "hospit        471\n",
      "would         465\n",
      "effect        463\n",
      "3             425\n",
      "make          422\n",
      "death         421\n",
      "cell          419\n",
      "clinic        416\n",
      "die           410\n",
      "could         410\n",
      "dtype: int64\n"
     ]
    }
   ],
   "source": [
    "Merged_most_freq_words = pd.Series(\" \".join(TrainDataset['Merged']).split()).value_counts()\n",
    "print(Merged_most_freq_words.head(50))"
   ]
  },
  {
   "cell_type": "code",
   "execution_count": 68,
   "metadata": {},
   "outputs": [
    {
     "data": {
      "image/png": "[encoded data removed]",
      "text/plain": [
       "<Figure size 432x288 with 1 Axes>"
      ]
     },
     "metadata": {
      "needs_background": "light"
     },
     "output_type": "display_data"
    }
   ],
   "source": [
    "FreqPlot = Merged_most_freq_words.head(20).sort_values(ascending = True).plot(kind=\"barh\",title = \"Top 20 Frequent Number Of Words\")\n",
    "import matplotlib.pyplot as plt\n",
    "plt.style.use(\"ggplot\")\n",
    "FreqPlot.set_xlabel(\"Frequency\")\n",
    "FreqPlot.set_ylabel(\"Words\")\n",
    "totals = []\n",
    "for i in FreqPlot.patches:\n",
    "    totals.append(i.get_width())\n",
    "for i in FreqPlot.patches:\n",
    "    FreqPlot.text(i.get_width()+.3,i.get_y()+0.1,str(i.get_width()),fontsize = 8,color= 'black')"
   ]
  },
  {
   "cell_type": "code",
   "execution_count": 69,
   "metadata": {},
   "outputs": [],
   "source": [
    "TrainCorpus = []\n",
    "for Merged in TrainDataset['Merged']:\n",
    "    TrainCorpus.append(Merged)\n",
    "TestCorpus = []\n",
    "for Merged in TestDataset['Merged']:\n",
    "    TestCorpus.append(Merged)"
   ]
  },
  {
   "cell_type": "code",
   "execution_count": 70,
   "metadata": {},
   "outputs": [],
   "source": [
    "#Tuning Hyperparameters of TFIDF Vectorizer\n",
    "from sklearn.linear_model import LogisticRegression\n",
    "from sklearn.model_selection import cross_val_score\n",
    "from sklearn.metrics import accuracy_score\n",
    "lr = LogisticRegression(random_state=1)\n",
    "Train_Y=TrainDataset['Patient_Tag']"
   ]
  },
  {
   "cell_type": "code",
   "execution_count": 71,
   "metadata": {},
   "outputs": [],
   "source": [
    "from sklearn.feature_extraction.text import TfidfVectorizer\n",
    "acc_df = pd.DataFrame()\n",
    "def tfidf_vec_max_features(params, TrainCorpus, Train_Y):\n",
    "    tfidf  = TfidfVectorizer(max_features=params,ngram_range=(1,1))\n",
    "    tfidf.fit(TrainCorpus)\n",
    "    MergedArrayTrain = tfidf.transform(TrainCorpus)\n",
    "    Train_X=np.column_stack((TrainDataset['Source_facebook'],TrainDataset['Source_forums'],TrainDataset['Source_youtube'],TrainDataset['Month'],TrainDataset['TimeSlot_Evening'], TrainDataset['TimeSlot_Late Night'], TrainDataset['TimeSlot_Morning'], TrainDataset['TimeSlot_Night'], MergedArrayTrain.toarray()))\n",
    "    Score = cross_val_score(lr, Train_X , Train_Y, cv=3)\n",
    "    return Score.mean()"
   ]
  },
  {
   "cell_type": "code",
   "execution_count": 72,
   "metadata": {
    "scrolled": true
   },
   "outputs": [
    {
     "data": {
      "image/png": "[encoded data removed]",
      "text/plain": [
       "<Figure size 432x288 with 1 Axes>"
      ]
     },
     "metadata": {},
     "output_type": "display_data"
    }
   ],
   "source": [
    "mf_params = [None, 500, 1000, 5000, 10000]\n",
    "max_features_scores = [tfidf_vec_max_features(p, TrainCorpus, Train_Y) for p in mf_params]\n",
    "max_features = ['max_f_'+str(p) for p in mf_params]\n",
    "max_features_df = pd.DataFrame({'params':max_features, 'scores':max_features_scores}, index=[0,1,2,3,4])\n",
    "acc_df = pd.DataFrame()\n",
    "max_features_df = max_features_df.append(acc_df.iloc[:1,:])\n",
    "sns.pointplot(x='params', y='scores', data =max_features_df)\n",
    "plt.ylabel('Accuracy Score')\n",
    "plt.xlabel('Max Features')\n",
    "plt.xticks(rotation=40)\n",
    "plt.title('Accuracy of Max Features')\n",
    "plt.show()"
   ]
  },
  {
   "cell_type": "markdown",
   "metadata": {},
   "source": [
    "### The above plot shows that max_features=500 has maximum accuracy"
   ]
  },
  {
   "cell_type": "code",
   "execution_count": 73,
   "metadata": {},
   "outputs": [],
   "source": [
    "def tfidf_vec_ngram(params, TrainCorpus, Train_Y):\n",
    "    tfidf  = TfidfVectorizer(max_features=500, ngram_range=params)\n",
    "    tfidf.fit(TrainCorpus)\n",
    "    MergedArrayTrain = tfidf.transform(TrainCorpus)\n",
    "    Train_X=np.column_stack((TrainDataset['Source_facebook'],TrainDataset['Source_forums'],TrainDataset['Source_youtube'],TrainDataset['Month'],TrainDataset['TimeSlot_Evening'], TrainDataset['TimeSlot_Late Night'], TrainDataset['TimeSlot_Morning'], TrainDataset['TimeSlot_Night'], MergedArrayTrain.toarray()))\n",
    "    Score = cross_val_score(lr, Train_X , Train_Y, cv=3) \n",
    "    return Score.mean()"
   ]
  },
  {
   "cell_type": "code",
   "execution_count": 74,
   "metadata": {},
   "outputs": [
    {
     "data": {
      "image/png": "[encoded data removed]",
      "text/plain": [
       "<Figure size 432x288 with 1 Axes>"
      ]
     },
     "metadata": {},
     "output_type": "display_data"
    }
   ],
   "source": [
    "params = [(1,1), (1,2),(1,3), (1,4)] \n",
    "ngram_scores = []\n",
    "for p in params:\n",
    "    ngram_scores.append(tfidf_vec_ngram(p, TrainCorpus, Train_Y))    \n",
    "ngrams = ['cvec gram_1','cvec gram_2','cvec gram_3','cvec gram_4']\n",
    "ngram_df = pd.DataFrame({'params':ngrams, 'scores':ngram_scores}, index=[0,1,2,3])\n",
    "acc_df = pd.DataFrame()\n",
    "ngram_df = ngram_df.append(acc_df.iloc[:1,:])\n",
    "sns.pointplot(x='params', y='scores', data =ngram_df)\n",
    "plt.ylabel('Accuracy Score')\n",
    "plt.xlabel('ngrams')\n",
    "plt.xticks(rotation=40)\n",
    "plt.show()"
   ]
  },
  {
   "cell_type": "markdown",
   "metadata": {},
   "source": [
    "### The above plot shows that ngram_range=(1,3) has maximum accuracy."
   ]
  },
  {
   "cell_type": "code",
   "execution_count": 75,
   "metadata": {},
   "outputs": [],
   "source": [
    "# Creating the model\n",
    "from sklearn.feature_extraction.text import TfidfVectorizer\n",
    "tfidf  = TfidfVectorizer(ngram_range=(1,3),max_features=500)\n",
    "tfidf.fit(TrainCorpus)\n",
    "MergedArrayTrain = tfidf.transform(TrainCorpus)\n",
    "MergedArrayTest= tfidf.transform(TestCorpus)"
   ]
  },
  {
   "cell_type": "code",
   "execution_count": 76,
   "metadata": {},
   "outputs": [],
   "source": [
    "Train_X=np.column_stack((TrainDataset['Source_facebook'],TrainDataset['Source_forums'],TrainDataset['Source_youtube'],TrainDataset['Month'],TrainDataset['TimeSlot_Evening'], TrainDataset['TimeSlot_Late Night'], TrainDataset['TimeSlot_Morning'], TrainDataset['TimeSlot_Night'], MergedArrayTrain.toarray()))"
   ]
  },
  {
   "cell_type": "code",
   "execution_count": 77,
   "metadata": {},
   "outputs": [
    {
     "data": {
      "text/html": [
       "<div>\n",
       "<style scoped>\n",
       "    .dataframe tbody tr th:only-of-type {\n",
       "        vertical-align: middle;\n",
       "    }\n",
       "\n",
       "    .dataframe tbody tr th {\n",
       "        vertical-align: top;\n",
       "    }\n",
       "\n",
       "    .dataframe thead th {\n",
       "        text-align: right;\n",
       "    }\n",
       "</style>\n",
       "<table border=\"1\" class=\"dataframe\">\n",
       "  <thead>\n",
       "    <tr style=\"text-align: right;\">\n",
       "      <th></th>\n",
       "      <th>Patient_Tag</th>\n",
       "      <th>Month</th>\n",
       "      <th>Source_facebook</th>\n",
       "      <th>Source_forums</th>\n",
       "      <th>Source_youtube</th>\n",
       "      <th>TimeSlot_Evening</th>\n",
       "      <th>TimeSlot_Late Night</th>\n",
       "      <th>TimeSlot_Morning</th>\n",
       "      <th>TimeSlot_Night</th>\n",
       "    </tr>\n",
       "  </thead>\n",
       "  <tbody>\n",
       "    <tr>\n",
       "      <td>Patient_Tag</td>\n",
       "      <td>1.000000</td>\n",
       "      <td>0.283386</td>\n",
       "      <td>0.211823</td>\n",
       "      <td>0.238863</td>\n",
       "      <td>-0.095645</td>\n",
       "      <td>-0.044166</td>\n",
       "      <td>-0.026579</td>\n",
       "      <td>0.124275</td>\n",
       "      <td>-0.043041</td>\n",
       "    </tr>\n",
       "    <tr>\n",
       "      <td>Month</td>\n",
       "      <td>0.283386</td>\n",
       "      <td>1.000000</td>\n",
       "      <td>0.089415</td>\n",
       "      <td>0.148396</td>\n",
       "      <td>0.046042</td>\n",
       "      <td>0.009026</td>\n",
       "      <td>0.058533</td>\n",
       "      <td>-0.043074</td>\n",
       "      <td>-0.003900</td>\n",
       "    </tr>\n",
       "    <tr>\n",
       "      <td>Source_facebook</td>\n",
       "      <td>0.211823</td>\n",
       "      <td>0.089415</td>\n",
       "      <td>1.000000</td>\n",
       "      <td>-0.283242</td>\n",
       "      <td>-0.045236</td>\n",
       "      <td>0.031895</td>\n",
       "      <td>-0.043489</td>\n",
       "      <td>-0.025159</td>\n",
       "      <td>-0.010704</td>\n",
       "    </tr>\n",
       "    <tr>\n",
       "      <td>Source_forums</td>\n",
       "      <td>0.238863</td>\n",
       "      <td>0.148396</td>\n",
       "      <td>-0.283242</td>\n",
       "      <td>1.000000</td>\n",
       "      <td>-0.218617</td>\n",
       "      <td>0.006765</td>\n",
       "      <td>0.038118</td>\n",
       "      <td>0.021420</td>\n",
       "      <td>0.038552</td>\n",
       "    </tr>\n",
       "    <tr>\n",
       "      <td>Source_youtube</td>\n",
       "      <td>-0.095645</td>\n",
       "      <td>0.046042</td>\n",
       "      <td>-0.045236</td>\n",
       "      <td>-0.218617</td>\n",
       "      <td>1.000000</td>\n",
       "      <td>-0.063788</td>\n",
       "      <td>-0.025306</td>\n",
       "      <td>-0.011320</td>\n",
       "      <td>-0.025716</td>\n",
       "    </tr>\n",
       "    <tr>\n",
       "      <td>TimeSlot_Evening</td>\n",
       "      <td>-0.044166</td>\n",
       "      <td>0.009026</td>\n",
       "      <td>0.031895</td>\n",
       "      <td>0.006765</td>\n",
       "      <td>-0.063788</td>\n",
       "      <td>1.000000</td>\n",
       "      <td>-0.175913</td>\n",
       "      <td>-0.357318</td>\n",
       "      <td>-0.149787</td>\n",
       "    </tr>\n",
       "    <tr>\n",
       "      <td>TimeSlot_Late Night</td>\n",
       "      <td>-0.026579</td>\n",
       "      <td>0.058533</td>\n",
       "      <td>-0.043489</td>\n",
       "      <td>0.038118</td>\n",
       "      <td>-0.025306</td>\n",
       "      <td>-0.175913</td>\n",
       "      <td>1.000000</td>\n",
       "      <td>-0.279892</td>\n",
       "      <td>-0.117330</td>\n",
       "    </tr>\n",
       "    <tr>\n",
       "      <td>TimeSlot_Morning</td>\n",
       "      <td>0.124275</td>\n",
       "      <td>-0.043074</td>\n",
       "      <td>-0.025159</td>\n",
       "      <td>0.021420</td>\n",
       "      <td>-0.011320</td>\n",
       "      <td>-0.357318</td>\n",
       "      <td>-0.279892</td>\n",
       "      <td>1.000000</td>\n",
       "      <td>-0.238323</td>\n",
       "    </tr>\n",
       "    <tr>\n",
       "      <td>TimeSlot_Night</td>\n",
       "      <td>-0.043041</td>\n",
       "      <td>-0.003900</td>\n",
       "      <td>-0.010704</td>\n",
       "      <td>0.038552</td>\n",
       "      <td>-0.025716</td>\n",
       "      <td>-0.149787</td>\n",
       "      <td>-0.117330</td>\n",
       "      <td>-0.238323</td>\n",
       "      <td>1.000000</td>\n",
       "    </tr>\n",
       "  </tbody>\n",
       "</table>\n",
       "</div>"
      ],
      "text/plain": [
       "                     Patient_Tag     Month  Source_facebook  Source_forums  \\\n",
       "Patient_Tag             1.000000  0.283386         0.211823       0.238863   \n",
       "Month                   0.283386  1.000000         0.089415       0.148396   \n",
       "Source_facebook         0.211823  0.089415         1.000000      -0.283242   \n",
       "Source_forums           0.238863  0.148396        -0.283242       1.000000   \n",
       "Source_youtube         -0.095645  0.046042        -0.045236      -0.218617   \n",
       "TimeSlot_Evening       -0.044166  0.009026         0.031895       0.006765   \n",
       "TimeSlot_Late Night    -0.026579  0.058533        -0.043489       0.038118   \n",
       "TimeSlot_Morning        0.124275 -0.043074        -0.025159       0.021420   \n",
       "TimeSlot_Night         -0.043041 -0.003900        -0.010704       0.038552   \n",
       "\n",
       "                     Source_youtube  TimeSlot_Evening  TimeSlot_Late Night  \\\n",
       "Patient_Tag               -0.095645         -0.044166            -0.026579   \n",
       "Month                      0.046042          0.009026             0.058533   \n",
       "Source_facebook           -0.045236          0.031895            -0.043489   \n",
       "Source_forums             -0.218617          0.006765             0.038118   \n",
       "Source_youtube             1.000000         -0.063788            -0.025306   \n",
       "TimeSlot_Evening          -0.063788          1.000000            -0.175913   \n",
       "TimeSlot_Late Night       -0.025306         -0.175913             1.000000   \n",
       "TimeSlot_Morning          -0.011320         -0.357318            -0.279892   \n",
       "TimeSlot_Night            -0.025716         -0.149787            -0.117330   \n",
       "\n",
       "                     TimeSlot_Morning  TimeSlot_Night  \n",
       "Patient_Tag                  0.124275       -0.043041  \n",
       "Month                       -0.043074       -0.003900  \n",
       "Source_facebook             -0.025159       -0.010704  \n",
       "Source_forums                0.021420        0.038552  \n",
       "Source_youtube              -0.011320       -0.025716  \n",
       "TimeSlot_Evening            -0.357318       -0.149787  \n",
       "TimeSlot_Late Night         -0.279892       -0.117330  \n",
       "TimeSlot_Morning             1.000000       -0.238323  \n",
       "TimeSlot_Night              -0.238323        1.000000  "
      ]
     },
     "execution_count": 77,
     "metadata": {},
     "output_type": "execute_result"
    }
   ],
   "source": [
    "TrainDataset.corr()"
   ]
  },
  {
   "cell_type": "code",
   "execution_count": 78,
   "metadata": {},
   "outputs": [],
   "source": [
    "Train_Y=TrainDataset['Patient_Tag']"
   ]
  },
  {
   "cell_type": "code",
   "execution_count": 79,
   "metadata": {},
   "outputs": [],
   "source": [
    "np.random.seed(0)\n",
    "# Splitting the dataset into the Training set and Test set\n",
    "from sklearn.model_selection import train_test_split\n",
    "X_train, X_test, Y_train, Y_test = train_test_split(Train_X, Train_Y, test_size = 0.20, random_state = 0)"
   ]
  },
  {
   "cell_type": "code",
   "execution_count": 80,
   "metadata": {},
   "outputs": [],
   "source": [
    "#In order the solve the problem of unbalanced dataset\n",
    "from imblearn.over_sampling import SMOTE\n",
    "sm = SMOTE(random_state=27)\n",
    "X_train, Y_train = sm.fit_sample(X_train, Y_train)"
   ]
  },
  {
   "cell_type": "code",
   "execution_count": 81,
   "metadata": {},
   "outputs": [
    {
     "name": "stdout",
     "output_type": "stream",
     "text": [
      "Classification Technique 1 : \n",
      "K Nearest Neighbor\n",
      "Confusion Matrix:\n",
      "[[109  73]\n",
      " [  6  44]]\n",
      "Accuracy:  0.790190615495345\n",
      "Classification Report:\n",
      "              precision    recall  f1-score   support\n",
      "\n",
      "           0       0.95      0.60      0.73       182\n",
      "           1       0.38      0.88      0.53        50\n",
      "\n",
      "    accuracy                           0.66       232\n",
      "   macro avg       0.66      0.74      0.63       232\n",
      "weighted avg       0.82      0.66      0.69       232\n",
      "\n"
     ]
    }
   ],
   "source": [
    "#Classification Technique 1\n",
    "print('Classification Technique 1 : ')\n",
    "#Create the classifier\n",
    "from sklearn.model_selection import cross_val_score\n",
    "from sklearn.metrics import roc_curve, auc\n",
    "from sklearn.neighbors import KNeighborsClassifier\n",
    "from sklearn.metrics import classification_report, confusion_matrix, accuracy_score\n",
    "from sklearn import metrics\n",
    "ClassifierKNN = KNeighborsClassifier()\n",
    "#Train the classifier \n",
    "ClassifierKNN.fit(X_train,Y_train)\n",
    "print('K Nearest Neighbor')\n",
    "#Predict on test data\n",
    "PredictKNN = ClassifierKNN.predict(X_test)\n",
    "#Confusion Matrix\n",
    "print ('Confusion Matrix:')\n",
    "print(confusion_matrix(Y_test, PredictKNN))\n",
    "#Checking the accuracy if prediction of test data is correct\n",
    "print ('Accuracy: ',cross_val_score(ClassifierKNN ,X_train,Y_train,cv = 5, scoring='accuracy').mean())\n",
    "print('Classification Report:')       \n",
    "print(classification_report(Y_test, PredictKNN))\n",
    "ProbabilitiesKNN = ClassifierKNN.predict_proba(X_test)[:,1]\n",
    "FPRKNN, TPRKNN, _ = roc_curve(Y_test, ProbabilitiesKNN)\n",
    "RocAucKNN = auc(FPRKNN, TPRKNN)"
   ]
  },
  {
   "cell_type": "code",
   "execution_count": 82,
   "metadata": {},
   "outputs": [
    {
     "name": "stdout",
     "output_type": "stream",
     "text": [
      "Classification Technique 2 :\n",
      "Decision Tree\n",
      "Confusion Matrix:\n",
      "[[155  27]\n",
      " [ 23  27]]\n",
      "Accuracy:  0.8726567760209886\n",
      "Classification Report:\n",
      "              precision    recall  f1-score   support\n",
      "\n",
      "           0       0.87      0.85      0.86       182\n",
      "           1       0.50      0.54      0.52        50\n",
      "\n",
      "    accuracy                           0.78       232\n",
      "   macro avg       0.69      0.70      0.69       232\n",
      "weighted avg       0.79      0.78      0.79       232\n",
      "\n"
     ]
    }
   ],
   "source": [
    "#Classification Technique 2\n",
    "print('Classification Technique 2 :')\n",
    "#Decision Tree\n",
    "from sklearn.tree import DecisionTreeClassifier\n",
    "#Create the classifier\n",
    "ClassifierDecisionTree = DecisionTreeClassifier()\n",
    "#Train the classifier \n",
    "ClassifierDecisionTree.fit(X_train,Y_train)\n",
    "print('Decision Tree')\n",
    "#Predict on test data\n",
    "PredictDecisionTree = ClassifierDecisionTree.predict(X_test)\n",
    "#Confusion Matrix\n",
    "print ('Confusion Matrix:')\n",
    "print(confusion_matrix(Y_test, PredictDecisionTree))\n",
    "#Checking the accuracy if prediction of test data is correct\n",
    "print ('Accuracy: ', (cross_val_score(ClassifierDecisionTree ,X_train,Y_train,cv = 5, scoring='accuracy')).mean())\n",
    "print('Classification Report:')       \n",
    "print(classification_report(Y_test, PredictDecisionTree))\n",
    "ProbabilitiesDT = ClassifierDecisionTree.predict_proba(X_test)[:,1]\n",
    "FPRDT, TPRDT, _ = roc_curve(Y_test, ProbabilitiesDT)\n",
    "RocAucDT = auc(FPRDT, TPRDT)"
   ]
  },
  {
   "cell_type": "code",
   "execution_count": 83,
   "metadata": {},
   "outputs": [
    {
     "name": "stdout",
     "output_type": "stream",
     "text": [
      "Classification Technique 3 : \n",
      "Random Forest\n",
      "Confusion Matrix:\n",
      "[[168  14]\n",
      " [ 22  28]]\n",
      "Accuracy:  0.9448584894708738\n",
      "Classification Report:\n",
      "              precision    recall  f1-score   support\n",
      "\n",
      "           0       0.88      0.92      0.90       182\n",
      "           1       0.67      0.56      0.61        50\n",
      "\n",
      "    accuracy                           0.84       232\n",
      "   macro avg       0.78      0.74      0.76       232\n",
      "weighted avg       0.84      0.84      0.84       232\n",
      "\n"
     ]
    }
   ],
   "source": [
    "#Classification Technique 3\n",
    "print('Classification Technique 3 : ')\n",
    "#Random Forest\n",
    "from sklearn.ensemble import RandomForestClassifier\n",
    "#Create the classifier\n",
    "ClassifierRandomForest = RandomForestClassifier()\n",
    "#Train the classifier \n",
    "ClassifierRandomForest.fit(X_train,Y_train)\n",
    "print('Random Forest')\n",
    "#Predict on test data\n",
    "PredictRandomForest = ClassifierRandomForest.predict(X_test)\n",
    "#Confusion Matrix\n",
    "print ('Confusion Matrix:')\n",
    "print(confusion_matrix(Y_test, PredictRandomForest))\n",
    "#Checking the accuracy if prediction of test data is correct\n",
    "print ('Accuracy: ', (cross_val_score(ClassifierRandomForest ,X_train,Y_train,cv = 5, scoring='accuracy')).mean())\n",
    "print('Classification Report:')       \n",
    "print(classification_report(Y_test, PredictRandomForest))\n",
    "ProbabilitiesRF = ClassifierRandomForest.predict_proba(X_test)[:,1]\n",
    "FPRRF, TPRRF, _ = roc_curve(Y_test, ProbabilitiesRF)\n",
    "RocAucRF = auc(FPRRF, TPRRF)"
   ]
  },
  {
   "cell_type": "code",
   "execution_count": 84,
   "metadata": {},
   "outputs": [
    {
     "name": "stdout",
     "output_type": "stream",
     "text": [
      "Classification Technique 4 : \n",
      "Support Vector Machine\n",
      "Confusion Matrix:\n",
      "[[166  16]\n",
      " [ 12  38]]\n",
      "Accuracy:  0.9693598941282998\n",
      "Classification Report: \n",
      "              precision    recall  f1-score   support\n",
      "\n",
      "           0       0.93      0.91      0.92       182\n",
      "           1       0.70      0.76      0.73        50\n",
      "\n",
      "    accuracy                           0.88       232\n",
      "   macro avg       0.82      0.84      0.83       232\n",
      "weighted avg       0.88      0.88      0.88       232\n",
      "\n"
     ]
    }
   ],
   "source": [
    "#Classification Technique 4\n",
    "print('Classification Technique 4 : ')\n",
    "#Support Vector Machine\n",
    "from sklearn import svm\n",
    "#Create the Classifier\n",
    "ClassifierSVM = svm.SVC(C = 10, gamma = 0.1, probability = True)\n",
    "#Train the Classifier \n",
    "ClassifierSVM.fit(X_train,Y_train)\n",
    "print('Support Vector Machine')\n",
    "#Predict on test data\n",
    "PredictSVM = ClassifierSVM.predict(X_test)\n",
    "#Confusion Matrix\n",
    "print ('Confusion Matrix:')\n",
    "print(confusion_matrix(Y_test, PredictSVM))\n",
    "#Checking the accuracy if prediction of test data is correct\n",
    "print ('Accuracy: ', (cross_val_score(ClassifierSVM ,X_train,Y_train,cv = 5, scoring='accuracy')).mean())\n",
    "print('Classification Report: ')       \n",
    "print(classification_report(Y_test, PredictSVM))\n",
    "ProbabilitiesSVM = ClassifierSVM.predict_proba(X_test)[:,1]\n",
    "FPRSVM, TPRSVM, _ = roc_curve(Y_test, ProbabilitiesSVM)\n",
    "RocAucSVM = auc(FPRSVM, TPRSVM)"
   ]
  },
  {
   "cell_type": "code",
   "execution_count": 85,
   "metadata": {},
   "outputs": [
    {
     "name": "stdout",
     "output_type": "stream",
     "text": [
      "Classification Technique 5 : \n",
      "SVM Classifier with poly function \n",
      "Confusion Matrix:\n",
      "\n",
      "[[165  17]\n",
      " [ 19  31]]\n",
      "Accuracy:  0.9591349167653409\n",
      "Classification Report: \n",
      "\n",
      "              precision    recall  f1-score   support\n",
      "\n",
      "           0       0.90      0.91      0.90       182\n",
      "           1       0.65      0.62      0.63        50\n",
      "\n",
      "    accuracy                           0.84       232\n",
      "   macro avg       0.77      0.76      0.77       232\n",
      "weighted avg       0.84      0.84      0.84       232\n",
      "\n"
     ]
    }
   ],
   "source": [
    "#Classification Technique 5\n",
    "print('Classification Technique 5 : ')\n",
    "#Support Vector Machine poly kernel\n",
    "from sklearn import svm\n",
    "#Create the classifier\n",
    "clf = svm.SVC(kernel='poly',C=10,gamma = 0.1, probability = True)\n",
    "#Train the classifier \n",
    "clf.fit(X_train,Y_train) \n",
    "print('SVM Classifier with poly function ')\n",
    "#Predict on test data\n",
    "Predictclf = clf.predict(X_test)\n",
    "#Confusion Matrix\n",
    "print ('Confusion Matrix:\\n')\n",
    "print(confusion_matrix(Y_test, Predictclf))\n",
    "#Checking the accuracy if prediction of test data is correct\n",
    "print ('Accuracy: ',(cross_val_score(clf ,X_train,Y_train,cv = 5, scoring='accuracy')).mean())\n",
    "print('Classification Report: \\n')       \n",
    "print(classification_report(Y_test, Predictclf))\n",
    "ProbabilitiesSVMP = clf.predict_proba(X_test)[:,1]\n",
    "FPRSVMP, TPRSVMP, _ = roc_curve(Y_test, ProbabilitiesSVMP)\n",
    "RocAucSVMP = auc(FPRSVMP, TPRSVMP)"
   ]
  },
  {
   "cell_type": "code",
   "execution_count": 86,
   "metadata": {},
   "outputs": [
    {
     "name": "stdout",
     "output_type": "stream",
     "text": [
      "Classification Technique 6 : \n",
      "Logistic Regression\n",
      "Confusion Matrix:\n",
      "[[161  21]\n",
      " [  9  41]]\n"
     ]
    },
    {
     "name": "stderr",
     "output_type": "stream",
     "text": [
      "/Users/kashikapuri/opt/anaconda3/lib/python3.7/site-packages/sklearn/linear_model/_logistic.py:940: ConvergenceWarning: lbfgs failed to converge (status=1):\n",
      "STOP: TOTAL NO. of ITERATIONS REACHED LIMIT.\n",
      "\n",
      "Increase the number of iterations (max_iter) or scale the data as shown in:\n",
      "    https://scikit-learn.org/stable/modules/preprocessing.html\n",
      "Please also refer to the documentation for alternative solver options:\n",
      "    https://scikit-learn.org/stable/modules/linear_model.html#logistic-regression\n",
      "  extra_warning_msg=_LOGISTIC_SOLVER_CONVERGENCE_MSG)\n",
      "/Users/kashikapuri/opt/anaconda3/lib/python3.7/site-packages/sklearn/linear_model/_logistic.py:940: ConvergenceWarning: lbfgs failed to converge (status=1):\n",
      "STOP: TOTAL NO. of ITERATIONS REACHED LIMIT.\n",
      "\n",
      "Increase the number of iterations (max_iter) or scale the data as shown in:\n",
      "    https://scikit-learn.org/stable/modules/preprocessing.html\n",
      "Please also refer to the documentation for alternative solver options:\n",
      "    https://scikit-learn.org/stable/modules/linear_model.html#logistic-regression\n",
      "  extra_warning_msg=_LOGISTIC_SOLVER_CONVERGENCE_MSG)\n",
      "/Users/kashikapuri/opt/anaconda3/lib/python3.7/site-packages/sklearn/linear_model/_logistic.py:940: ConvergenceWarning: lbfgs failed to converge (status=1):\n",
      "STOP: TOTAL NO. of ITERATIONS REACHED LIMIT.\n",
      "\n",
      "Increase the number of iterations (max_iter) or scale the data as shown in:\n",
      "    https://scikit-learn.org/stable/modules/preprocessing.html\n",
      "Please also refer to the documentation for alternative solver options:\n",
      "    https://scikit-learn.org/stable/modules/linear_model.html#logistic-regression\n",
      "  extra_warning_msg=_LOGISTIC_SOLVER_CONVERGENCE_MSG)\n"
     ]
    },
    {
     "name": "stdout",
     "output_type": "stream",
     "text": [
      "Accuracy:  0.9230340600403985\n",
      "Classification Report:\n",
      "              precision    recall  f1-score   support\n",
      "\n",
      "           0       0.95      0.88      0.91       182\n",
      "           1       0.66      0.82      0.73        50\n",
      "\n",
      "    accuracy                           0.87       232\n",
      "   macro avg       0.80      0.85      0.82       232\n",
      "weighted avg       0.89      0.87      0.88       232\n",
      "\n"
     ]
    },
    {
     "name": "stderr",
     "output_type": "stream",
     "text": [
      "/Users/kashikapuri/opt/anaconda3/lib/python3.7/site-packages/sklearn/linear_model/_logistic.py:940: ConvergenceWarning: lbfgs failed to converge (status=1):\n",
      "STOP: TOTAL NO. of ITERATIONS REACHED LIMIT.\n",
      "\n",
      "Increase the number of iterations (max_iter) or scale the data as shown in:\n",
      "    https://scikit-learn.org/stable/modules/preprocessing.html\n",
      "Please also refer to the documentation for alternative solver options:\n",
      "    https://scikit-learn.org/stable/modules/linear_model.html#logistic-regression\n",
      "  extra_warning_msg=_LOGISTIC_SOLVER_CONVERGENCE_MSG)\n"
     ]
    }
   ],
   "source": [
    "#Classification Technique 6\n",
    "print('Classification Technique 6 : ')\n",
    "#Logistic Regression model\n",
    "from sklearn.linear_model import LogisticRegression\n",
    "#Create and train the classifier\n",
    "ClassifierLR = LogisticRegression(random_state=0).fit(X_train,Y_train)\n",
    "print(\"Logistic Regression\")\n",
    "#Predict on test data\n",
    "PredictLR = ClassifierLR.predict(X_test)\n",
    "#Confusion Matrix\n",
    "print ('Confusion Matrix:')\n",
    "print(confusion_matrix(Y_test, PredictLR))\n",
    "#Checking the accuracy if prediction of test data is correct\n",
    "print ('Accuracy: ', (cross_val_score(ClassifierLR ,X_train,Y_train,cv = 5, scoring='accuracy')).mean())\n",
    "print('Classification Report:')       \n",
    "print(classification_report(Y_test, PredictLR))\n",
    "ProbabilitiesLR = ClassifierLR.predict_proba(X_test)[:,1]\n",
    "FPRLR, TPRLR, _ = roc_curve(Y_test, ProbabilitiesLR)\n",
    "RocAucLR = auc(FPRLR, TPRLR)"
   ]
  },
  {
   "cell_type": "code",
   "execution_count": 87,
   "metadata": {},
   "outputs": [
    {
     "name": "stdout",
     "output_type": "stream",
     "text": [
      "Classification Technique 7 : \n",
      "GradientBoostingClassifier\n",
      "Confusion Matrix:\n",
      "[[170  12]\n",
      " [ 16  34]]\n",
      "Accuracy:  0.9469039492930278\n",
      "Classification Report:\n",
      "              precision    recall  f1-score   support\n",
      "\n",
      "           0       0.91      0.93      0.92       182\n",
      "           1       0.74      0.68      0.71        50\n",
      "\n",
      "    accuracy                           0.88       232\n",
      "   macro avg       0.83      0.81      0.82       232\n",
      "weighted avg       0.88      0.88      0.88       232\n",
      "\n"
     ]
    }
   ],
   "source": [
    "#Classification Technique 7\n",
    "print('Classification Technique 7 : ')\n",
    "#Gradient Boosting model\n",
    "from sklearn.ensemble import GradientBoostingClassifier\n",
    "#Create and train the classifier\n",
    "ClassifierGBC = GradientBoostingClassifier(random_state=0).fit(X_train,Y_train)\n",
    "print(\"GradientBoostingClassifier\")\n",
    "#Predict on test data\n",
    "PredictGBC = ClassifierGBC.predict(X_test)\n",
    "#Confusion Matrix\n",
    "print ('Confusion Matrix:')\n",
    "print(confusion_matrix(Y_test, PredictGBC))\n",
    "#Checking the accuracy if prediction of test data is correct\n",
    "print ('Accuracy: ', (cross_val_score(ClassifierGBC ,X_train,Y_train,cv = 5, scoring='accuracy')).mean())\n",
    "print('Classification Report:')       \n",
    "print(classification_report(Y_test, PredictGBC))\n",
    "ProbabilitiesGB = ClassifierGBC.predict_proba(X_test)[:,1]\n",
    "FPRGB, TPRGB, _ = roc_curve(Y_test, ProbabilitiesGB)\n",
    "RocAucGB = auc(FPRGB, TPRGB)"
   ]
  },
  {
   "cell_type": "code",
   "execution_count": 88,
   "metadata": {},
   "outputs": [
    {
     "data": {
      "image/png": "[encoded data removed]",
      "text/plain": [
       "<Figure size 432x288 with 1 Axes>"
      ]
     },
     "metadata": {},
     "output_type": "display_data"
    }
   ],
   "source": [
    "#Plot the ROC Curve\n",
    "plt.figure()\n",
    "plt.plot(FPRKNN, TPRKNN, color='darkorange',\n",
    "         lw=2, label='K-nearest Neighbours (area = %0.2f)' % RocAucKNN)\n",
    "plt.plot(FPRDT, TPRDT, color='darkgreen',\n",
    "         lw=2, label='Decision Tree (area = %0.2f)' % RocAucDT)\n",
    "plt.plot(FPRRF, TPRRF, color='pink',\n",
    "         lw=2, label='Random Forest (area = %0.2f)' % RocAucRF)\n",
    "plt.plot(FPRSVM, TPRSVM, color='red',\n",
    "         lw=2, label='SVM (area = %0.2f)' % RocAucRF)\n",
    "plt.plot(FPRSVMP, TPRSVMP, color='brown',\n",
    "         lw=2, label='SVM(Poly function) (area = %0.2f)' % RocAucRF)\n",
    "plt.plot(FPRLR, TPRLR, color='yellow',\n",
    "         lw=2, label='Logistic Regression (area = %0.2f)' % RocAucLR)\n",
    "plt.plot(FPRGB, TPRGB, color='grey',\n",
    "         lw=2, label='Gradient Boosting (area = %0.2f)' % RocAucGB)\n",
    "plt.plot([0, 1], [0, 1], color='navy', lw=2, linestyle='--')\n",
    "plt.xlim([0.0, 1.0])\n",
    "plt.ylim([0.0, 1.05])\n",
    "plt.xlabel('False Positive Rate')\n",
    "plt.ylabel('True Positive Rate')\n",
    "plt.title('ROC Curve')\n",
    "plt.legend(loc=\"lower right\")\n",
    "plt.show()"
   ]
  },
  {
   "cell_type": "markdown",
   "metadata": {},
   "source": [
    "### Precision, Recall, F1-score, Accuaracy, Area under ROC Curve are the parameters used for model evaluation. Accuarcy of Support Vector Machine is greatest whereas Area under ROC is highest for gradient boosting classifier. They both are having almost same results. For my model I have used gradient boosting classifier as it works well if the classes are unbalanced."
   ]
  },
  {
   "cell_type": "code",
   "execution_count": 89,
   "metadata": {},
   "outputs": [],
   "source": [
    "Train_X=np.column_stack((TrainDataset['Source_facebook'],TrainDataset['Source_forums'],TrainDataset['Source_youtube'],TrainDataset['Month'],TrainDataset['TimeSlot_Evening'], TrainDataset['TimeSlot_Late Night'], TrainDataset['TimeSlot_Morning'], TrainDataset['TimeSlot_Night'], MergedArrayTrain.toarray()))"
   ]
  },
  {
   "cell_type": "code",
   "execution_count": 90,
   "metadata": {},
   "outputs": [],
   "source": [
    "Train_Y=TrainDataset['Patient_Tag']"
   ]
  },
  {
   "cell_type": "code",
   "execution_count": 91,
   "metadata": {},
   "outputs": [],
   "source": [
    "Test_X=np.column_stack((TestDataset['Source_facebook'],TestDataset['Source_forums'],TestDataset['Source_youtube'], TestDataset['Month'],TestDataset['TimeSlot_Evening'], TestDataset['TimeSlot_Late Night'], TestDataset['TimeSlot_Morning'], TestDataset['TimeSlot_Night'], MergedArrayTest.toarray()))"
   ]
  },
  {
   "cell_type": "code",
   "execution_count": 92,
   "metadata": {},
   "outputs": [],
   "source": [
    "#For unbalanced dataset\n",
    "from imblearn.over_sampling import SMOTE\n",
    "sm = SMOTE(random_state=27)\n",
    "Train_X, Train_Y = sm.fit_sample(Train_X, Train_Y)"
   ]
  },
  {
   "cell_type": "code",
   "execution_count": 93,
   "metadata": {},
   "outputs": [],
   "source": [
    "#Gradient Boosting model\n",
    "from sklearn.ensemble import GradientBoostingClassifier\n",
    "#Create and train the classifier\n",
    "ClassifierGBC = GradientBoostingClassifier(random_state=0).fit(Train_X,Train_Y)\n",
    "#Predict on test data\n",
    "PredictGBC = ClassifierGBC.predict(Test_X)"
   ]
  },
  {
   "cell_type": "code",
   "execution_count": 94,
   "metadata": {},
   "outputs": [],
   "source": [
    "Patient_Tag=pd.DataFrame({'Patient_Tag': PredictGBC})"
   ]
  },
  {
   "cell_type": "code",
   "execution_count": 95,
   "metadata": {},
   "outputs": [],
   "source": [
    "TestOutput=pd.concat([TestDataset, pd.DataFrame(PredictGBC)], axis=1)"
   ]
  },
  {
   "cell_type": "code",
   "execution_count": 96,
   "metadata": {},
   "outputs": [],
   "source": [
    "TestOutput.to_csv (r'TestOutput.csv', index = None, header=True)"
   ]
  },
  {
   "cell_type": "code",
   "execution_count": 97,
   "metadata": {},
   "outputs": [],
   "source": [
    "FinalOutput=pd.concat([TestDataset['Index'], Patient_Tag], axis=1)"
   ]
  },
  {
   "cell_type": "code",
   "execution_count": 98,
   "metadata": {},
   "outputs": [],
   "source": [
    "FinalOutput.to_csv (r'sample_submission.csv', index = None, header=True)"
   ]
  }
 ],
 "metadata": {
  "kernelspec": {
   "display_name": "Python 3",
   "language": "python",
   "name": "python3"
  },
  "language_info": {
   "codemirror_mode": {
    "name": "ipython",
    "version": 3
   },
   "file_extension": ".py",
   "mimetype": "text/x-python",
   "name": "python",
   "nbconvert_exporter": "python",
   "pygments_lexer": "ipython3",
   "version": "3.7.4"
  }
 },
 "nbformat": 4,
 "nbformat_minor": 2
}
